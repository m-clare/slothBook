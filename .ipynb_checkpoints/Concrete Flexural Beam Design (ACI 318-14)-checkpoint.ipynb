{
 "cells": [
  {
   "cell_type": "markdown",
   "metadata": {},
   "source": [
    "# Concrete Flexural Beam Design"
   ]
  },
  {
   "cell_type": "code",
   "execution_count": 52,
   "metadata": {},
   "outputs": [],
   "source": [
    "from __future__ import print_function\n",
    "import ipywidgets as widgets\n",
    "from ipywidgets import interact, interactive, fixed, interact_manual"
   ]
  },
  {
   "cell_type": "markdown",
   "metadata": {},
   "source": [
    "## Load"
   ]
  },
  {
   "cell_type": "code",
   "execution_count": null,
   "metadata": {},
   "outputs": [],
   "source": []
  },
  {
   "cell_type": "markdown",
   "metadata": {},
   "source": [
    "## Materials"
   ]
  },
  {
   "cell_type": "markdown",
   "metadata": {},
   "source": [
    "### Concrete"
   ]
  },
  {
   "cell_type": "code",
   "execution_count": null,
   "metadata": {},
   "outputs": [],
   "source": []
  },
  {
   "cell_type": "code",
   "execution_count": 53,
   "metadata": {},
   "outputs": [],
   "source": [
    "\n",
    "M_u = 500 # kip-ft\n",
    "\n",
    "# Materials\n",
    "f_c = 6 # ksi\n",
    "epsilon_c = 0.003 # strain limit\n",
    "\n",
    "# Set beta (based on f_c)\n",
    "if f_c <= 4:\n",
    "    beta = 0.85\n",
    "else:\n",
    "    beta = max(0.65, 0.85 - 0.05 * (f_c  - 4.))"
   ]
  },
  {
   "cell_type": "markdown",
   "metadata": {},
   "source": [
    "### Steel"
   ]
  },
  {
   "cell_type": "code",
   "execution_count": 54,
   "metadata": {},
   "outputs": [],
   "source": [
    "E_s = 29000 # ksi\n",
    "f_y = 60 # ksi\n",
    "epsilon_y = 0.002"
   ]
  },
  {
   "cell_type": "markdown",
   "metadata": {},
   "source": [
    "## Section Geometry"
   ]
  },
  {
   "cell_type": "code",
   "execution_count": 55,
   "metadata": {},
   "outputs": [],
   "source": [
    "b = 12 # in\n",
    "h = 16 # in\n",
    "d = 15 # in\n",
    "d_prime = 1 # in"
   ]
  },
  {
   "cell_type": "markdown",
   "metadata": {},
   "source": [
    "## Calculate Rho Balanced"
   ]
  },
  {
   "cell_type": "code",
   "execution_count": 56,
   "metadata": {},
   "outputs": [
    {
     "name": "stdout",
     "output_type": "stream",
     "text": [
      "0.03825\n"
     ]
    }
   ],
   "source": [
    "xi_b = epsilon_c / (epsilon_c + epsilon_y)\n",
    "rho_b = 0.85 * beta * (f_c / f_y) * xi_b\n",
    "print(rho_b)"
   ]
  },
  {
   "cell_type": "markdown",
   "metadata": {},
   "source": [
    "## Tension Controlled Section"
   ]
  },
  {
   "cell_type": "code",
   "execution_count": 57,
   "metadata": {},
   "outputs": [
    {
     "name": "stdout",
     "output_type": "stream",
     "text": [
      "5.625\n"
     ]
    }
   ],
   "source": [
    "xi_lim = epsilon_c / (epsilon_c + 0.005)\n",
    "rho_lim = 0.85 * beta * (f_c / f_y) * xi_lim\n",
    "x_lim = xi_lim * d\n",
    "print(x_lim)"
   ]
  },
  {
   "cell_type": "markdown",
   "metadata": {},
   "source": [
    "## Flexural Strength"
   ]
  },
  {
   "cell_type": "code",
   "execution_count": 58,
   "metadata": {},
   "outputs": [
    {
     "name": "stdout",
     "output_type": "stream",
     "text": [
      "Compression reinforcement needed\n",
      "5.625\n"
     ]
    }
   ],
   "source": [
    "phi = 0.90\n",
    "M_u_lim = phi * 0.85* f_c * beta * b * x_lim * (d - beta * x_lim / 2.) * 1 / 12.\n",
    "if M_u_lim >= M_u:\n",
    "    print(\"Tension reinforcement only\")\n",
    "    x_in = d / beta * (1 - (1 - M_u * 12. / (0.425 * phi * f_c * b * d ** 2.)) ** 0.5)\n",
    "else:\n",
    "    print(\"Compression reinforcement needed\")\n",
    "    x_in = x_lim\n",
    "print(x_in)\n",
    "\n"
   ]
  },
  {
   "cell_type": "code",
   "execution_count": null,
   "metadata": {},
   "outputs": [],
   "source": []
  },
  {
   "cell_type": "code",
   "execution_count": null,
   "metadata": {},
   "outputs": [],
   "source": []
  },
  {
   "cell_type": "code",
   "execution_count": null,
   "metadata": {},
   "outputs": [],
   "source": []
  }
 ],
 "metadata": {
  "kernelspec": {
   "display_name": "Python 3",
   "language": "python",
   "name": "python3"
  },
  "language_info": {
   "codemirror_mode": {
    "name": "ipython",
    "version": 3
   },
   "file_extension": ".py",
   "mimetype": "text/x-python",
   "name": "python",
   "nbconvert_exporter": "python",
   "pygments_lexer": "ipython3",
   "version": "3.7.0"
  },
  "latex_envs": {
   "LaTeX_envs_menu_present": true,
   "autoclose": false,
   "autocomplete": true,
   "bibliofile": "biblio.bib",
   "cite_by": "apalike",
   "current_citInitial": 1,
   "eqLabelWithNumbers": true,
   "eqNumInitial": 1,
   "hotkeys": {
    "equation": "Ctrl-E",
    "itemize": "Ctrl-I"
   },
   "labels_anchors": true,
   "latex_user_defs": false,
   "report_style_numbering": false,
   "user_envs_cfg": false
  }
 },
 "nbformat": 4,
 "nbformat_minor": 2
}
