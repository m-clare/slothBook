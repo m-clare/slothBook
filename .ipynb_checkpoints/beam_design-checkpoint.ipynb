{
 "cells": [
  {
   "cell_type": "markdown",
   "metadata": {},
   "source": [
    "# Concrete Flexural Beam Design"
   ]
  },
  {
   "cell_type": "code",
   "execution_count": 10,
   "metadata": {
    "code_folding": [],
    "hide_input": false,
    "scrolled": true
   },
   "outputs": [
    {
     "name": "stdout",
     "output_type": "stream",
     "text": [
      "Compression reinforcement needed\n",
      "5.625\n"
     ]
    }
   ],
   "source": [
    "import json\n",
    "from IPython.display import display, HTML, Math, Latex\n",
    "import numpy as np\n",
    "import pandas as pd\n",
    "\n",
    "fp = './beam01.json'\n",
    "\n",
    "with open(fp) as f:\n",
    "    beam_data = json.load(f)\n",
    "    \n",
    "# Loads\n",
    "M_u = beam_data['M_u'] #kip-ft\n",
    "\n",
    "# Section Properties\n",
    "## Materials\n",
    "\n",
    "## Concrete\n",
    "f_c = beam_data['f_c'] / 1000. # ksi\n",
    "epsilon_c = 0.003 # strain limit\n",
    "\n",
    "## Set beta (based on f_c)\n",
    "if f_c <= 4:\n",
    "    beta = 0.85\n",
    "else:\n",
    "    beta = round(max(0.65, 0.85 - 0.05 * (f_c / 4.)), 2)\n",
    "\n",
    "## Steel\n",
    "E_s = 29000 # ksi\n",
    "f_y = beam_data['f_y'] # ksi\n",
    "epsilon_y = 0.005\n",
    "\n",
    "## Section Geometry\n",
    "b = beam_data['b'] # in\n",
    "h = beam_data['h'] # in\n",
    "# check if d exists\n",
    "try:\n",
    "    d = beam_data['d']\n",
    "except:\n",
    "    d = h - 1.5\n",
    "try:\n",
    "    d_prime = beam_data['d_prime']\n",
    "except:\n",
    "    d_prime = 1.5\n",
    "\n",
    "# Calculate rho_b and x_lim\n",
    "xi_b = epsilon_c / (epsilon_c + epsilon_y)\n",
    "rho_b = round(0.85 * beta * (f_c / f_y) * xi_b, 5)\n",
    "x_lim = xi_b * d\n",
    "\n",
    "# Determine if single reinforcement or double\n",
    "phi = 0.90\n",
    "\n",
    "M_u_lim = phi * 0.85* f_c * beta * b * x_lim * (d - beta * x_lim / 2.) * 1 / 12.\n",
    "if M_u_lim >= M_u:\n",
    "    print(\"Tension reinforcement only\")\n",
    "    x_in = d / beta * (1 - (1 - M_u * 12. / (0.425 * phi * f_c * b * d ** 2.)) ** 0.5)\n",
    "else:\n",
    "    print(\"Compression reinforcement needed\")\n",
    "    x_in = x_lim\n",
    "print(x_in)"
   ]
  },
  {
   "cell_type": "markdown",
   "metadata": {},
   "source": [
    "## I. Design Parameters"
   ]
  },
  {
   "cell_type": "markdown",
   "metadata": {
    "hide_input": false
   },
   "source": [
    "### 1. Loads"
   ]
  },
  {
   "cell_type": "code",
   "execution_count": 11,
   "metadata": {
    "hide_input": false
   },
   "outputs": [],
   "source": [
    "M_u = beam_data['M_u'] # kip-ft"
   ]
  },
  {
   "cell_type": "markdown",
   "metadata": {
    "variables": {
     "M_u": "500.0"
    }
   },
   "source": [
    "$M_u = ${{M_u}} k-ft"
   ]
  },
  {
   "cell_type": "markdown",
   "metadata": {},
   "source": [
    "### 2. Section Properties"
   ]
  },
  {
   "cell_type": "code",
   "execution_count": null,
   "metadata": {
    "hide_input": false
   },
   "outputs": [],
   "source": []
  },
  {
   "cell_type": "markdown",
   "metadata": {
    "hide_input": true,
    "variables": {
     "E_s": "29000",
     "beta": "0.77",
     "epsilon_c": "0.003",
     "epsilon_y": "0.005",
     "f_c": "6.0",
     "f_y": "60.0"
    }
   },
   "source": [
    "<table>\n",
    "    <tbody>\n",
    "        <tr>\n",
    "            <td></td><td>Concrete</td><td></td>\n",
    "            <td></td><td>Steel</td><td></td>\n",
    "        </tr>\n",
    "        <tr>\n",
    "            <td>$f'_c = $</td>\n",
    "            <td>{{f_c}}</td>\n",
    "            <td>ksi</td>\n",
    "            <td>$f_y =$</td>\n",
    "            <td>{{f_y}}</td>\n",
    "            <td>ksi</td>\n",
    "        </tr>\n",
    "        <tr>\n",
    "            <td>$\\epsilon_c = $</td>\n",
    "            <td>{{epsilon_c}}</td>\n",
    "            <td></td>\n",
    "            <td>$\\epsilon_y = $</td>\n",
    "            <td>{{epsilon_y}}</td>\n",
    "            <td></td>\n",
    "        </tr>\n",
    "        <tr>\n",
    "            <td>$\\beta = $</td>\n",
    "            <td>{{beta}}</td>\n",
    "            <td></td>\n",
    "            <td>$E_s = $</td>\n",
    "            <td>{{E_s}}</td>\n",
    "            <td>ksi</td>\n",
    "        </tr>\n",
    "    </tbody>\n",
    "</table>"
   ]
  },
  {
   "cell_type": "markdown",
   "metadata": {},
   "source": [
    "### 3. Section Geometry"
   ]
  },
  {
   "cell_type": "code",
   "execution_count": null,
   "metadata": {
    "hide_input": false
   },
   "outputs": [],
   "source": []
  },
  {
   "cell_type": "markdown",
   "metadata": {
    "variables": {
     "b": "12.0",
     "d": "15.0",
     "d_prime": "1.0",
     "h": "16.0"
    }
   },
   "source": [
    "<table>\n",
    "    <tbody>\n",
    "        <tr>\n",
    "            <td></td><td>Concrete</td><td></td>\n",
    "        </tr>\n",
    "        <tr>\n",
    "            <td>$ b =$</td>\n",
    "            <td>{{b}}</td>\n",
    "            <td>in</td>\n",
    "        </tr>\n",
    "        <tr>\n",
    "            <td>$ h =$</td>\n",
    "            <td>{{h}}</td>\n",
    "            <td>in</td>\n",
    "        </tr>\n",
    "        <tr>\n",
    "            <td>$ d =$</td>\n",
    "            <td>{{d}}</td>\n",
    "            <td>in</td>\n",
    "        </tr>\n",
    "        <tr>\n",
    "            <td>$ d' =$</td>\n",
    "            <td>{{d_prime}}</td>\n",
    "            <td>in</td>\n",
    "        </tr>\n",
    "    </tbody>\n",
    "</table>"
   ]
  },
  {
   "cell_type": "markdown",
   "metadata": {},
   "source": [
    "## II. Calculate $\\rho_{B}$ and $x_{B}$"
   ]
  },
  {
   "cell_type": "code",
   "execution_count": 12,
   "metadata": {},
   "outputs": [],
   "source": [
    "from IPython.display import display, Math\n",
    "xi_b = epsilon_c / (epsilon_c + epsilon_y)\n",
    "rho_b = round(0.85 * beta * (f_c / f_y) * xi_b, 5)\n",
    "x_lim = xi_b * d\n"
   ]
  },
  {
   "cell_type": "markdown",
   "metadata": {
    "variables": {
     "rho_b": "0.02454",
     "x_lim": "5.625"
    }
   },
   "source": [
    "\\begin{equation*}\n",
    "\\xi_b = \\frac{\\epsilon_c}{\\epsilon_c + \\epsilon_y}\n",
    "\\end{equation*}\n",
    "\n",
    "$\\rho_b =$ {{rho_b}}, $x_b =$ {{x_lim}} in"
   ]
  },
  {
   "cell_type": "markdown",
   "metadata": {},
   "source": [
    "## III. Flexural Strength"
   ]
  },
  {
   "cell_type": "code",
   "execution_count": 13,
   "metadata": {},
   "outputs": [
    {
     "name": "stdout",
     "output_type": "stream",
     "text": [
      "Compression reinforcement needed\n",
      "5.625\n"
     ]
    }
   ],
   "source": [
    "phi = 0.90\n",
    "M_u_lim = phi * 0.85* f_c * beta * b * x_lim * (d - beta * x_lim / 2.) * 1 / 12.\n",
    "if M_u_lim >= M_u:\n",
    "    print(\"Tension reinforcement only\")\n",
    "    x_in = d / beta * (1 - (1 - M_u * 12. / (0.425 * phi * f_c * b * d ** 2.)) ** 0.5)\n",
    "else:\n",
    "    print(\"Compression reinforcement needed\")\n",
    "    x_in = x_lim\n",
    "print(x_in)\n",
    "\n"
   ]
  },
  {
   "cell_type": "markdown",
   "metadata": {},
   "source": [
    "## IV. Bars Required"
   ]
  },
  {
   "cell_type": "code",
   "execution_count": 42,
   "metadata": {
    "scrolled": false
   },
   "outputs": [
    {
     "data": {
      "text/html": [
       "<style  type=\"text/css\" >\n",
       "    #T_1fb207b8_24ff_11e9_8ce3_8c85901a8910 td {\n",
       "          text-align: center;\n",
       "          font-size: 120%;\n",
       "    }    #T_1fb207b8_24ff_11e9_8ce3_8c85901a8910 th {\n",
       "          text-align: center;\n",
       "          font-size: 120%;\n",
       "    }</style>  \n",
       "<table id=\"T_1fb207b8_24ff_11e9_8ce3_8c85901a8910\" > \n",
       "<thead>    <tr> \n",
       "        <th class=\"blank level0\" ></th> \n",
       "        <th class=\"col_heading level0 col0\" >Bar #</th> \n",
       "        <th class=\"col_heading level0 col1\" >A_b \n",
       "({in}^2)</th> \n",
       "        <th class=\"col_heading level0 col2\" ># of Required Positive Bars</th> \n",
       "        <th class=\"col_heading level0 col3\" ># of Required Negative Bars</th> \n",
       "        <th class=\"col_heading level0 col4\" >Positive Bar Spacing \n",
       " (in)</th> \n",
       "        <th class=\"col_heading level0 col5\" >Negative Bar Spacing \n",
       "(in)</th> \n",
       "    </tr></thead> \n",
       "<tbody>    <tr> \n",
       "        <th id=\"T_1fb207b8_24ff_11e9_8ce3_8c85901a8910level0_row0\" class=\"row_heading level0 row0\" >0</th> \n",
       "        <td id=\"T_1fb207b8_24ff_11e9_8ce3_8c85901a8910row0_col0\" class=\"data row0 col0\" >3</td> \n",
       "        <td id=\"T_1fb207b8_24ff_11e9_8ce3_8c85901a8910row0_col1\" class=\"data row0 col1\" >0.11</td> \n",
       "        <td id=\"T_1fb207b8_24ff_11e9_8ce3_8c85901a8910row0_col2\" class=\"data row0 col2\" >40</td> \n",
       "        <td id=\"T_1fb207b8_24ff_11e9_8ce3_8c85901a8910row0_col3\" class=\"data row0 col3\" >1</td> \n",
       "        <td id=\"T_1fb207b8_24ff_11e9_8ce3_8c85901a8910row0_col4\" class=\"data row0 col4\" >0.3</td> \n",
       "        <td id=\"T_1fb207b8_24ff_11e9_8ce3_8c85901a8910row0_col5\" class=\"data row0 col5\" >12</td> \n",
       "    </tr>    <tr> \n",
       "        <th id=\"T_1fb207b8_24ff_11e9_8ce3_8c85901a8910level0_row1\" class=\"row_heading level0 row1\" >1</th> \n",
       "        <td id=\"T_1fb207b8_24ff_11e9_8ce3_8c85901a8910row1_col0\" class=\"data row1 col0\" >4</td> \n",
       "        <td id=\"T_1fb207b8_24ff_11e9_8ce3_8c85901a8910row1_col1\" class=\"data row1 col1\" >0.2</td> \n",
       "        <td id=\"T_1fb207b8_24ff_11e9_8ce3_8c85901a8910row1_col2\" class=\"data row1 col2\" >22</td> \n",
       "        <td id=\"T_1fb207b8_24ff_11e9_8ce3_8c85901a8910row1_col3\" class=\"data row1 col3\" >1</td> \n",
       "        <td id=\"T_1fb207b8_24ff_11e9_8ce3_8c85901a8910row1_col4\" class=\"data row1 col4\" >0.55</td> \n",
       "        <td id=\"T_1fb207b8_24ff_11e9_8ce3_8c85901a8910row1_col5\" class=\"data row1 col5\" >12</td> \n",
       "    </tr>    <tr> \n",
       "        <th id=\"T_1fb207b8_24ff_11e9_8ce3_8c85901a8910level0_row2\" class=\"row_heading level0 row2\" >2</th> \n",
       "        <td id=\"T_1fb207b8_24ff_11e9_8ce3_8c85901a8910row2_col0\" class=\"data row2 col0\" >5</td> \n",
       "        <td id=\"T_1fb207b8_24ff_11e9_8ce3_8c85901a8910row2_col1\" class=\"data row2 col1\" >0.31</td> \n",
       "        <td id=\"T_1fb207b8_24ff_11e9_8ce3_8c85901a8910row2_col2\" class=\"data row2 col2\" >14</td> \n",
       "        <td id=\"T_1fb207b8_24ff_11e9_8ce3_8c85901a8910row2_col3\" class=\"data row2 col3\" >1</td> \n",
       "        <td id=\"T_1fb207b8_24ff_11e9_8ce3_8c85901a8910row2_col4\" class=\"data row2 col4\" >0.86</td> \n",
       "        <td id=\"T_1fb207b8_24ff_11e9_8ce3_8c85901a8910row2_col5\" class=\"data row2 col5\" >12</td> \n",
       "    </tr>    <tr> \n",
       "        <th id=\"T_1fb207b8_24ff_11e9_8ce3_8c85901a8910level0_row3\" class=\"row_heading level0 row3\" >3</th> \n",
       "        <td id=\"T_1fb207b8_24ff_11e9_8ce3_8c85901a8910row3_col0\" class=\"data row3 col0\" >6</td> \n",
       "        <td id=\"T_1fb207b8_24ff_11e9_8ce3_8c85901a8910row3_col1\" class=\"data row3 col1\" >0.44</td> \n",
       "        <td id=\"T_1fb207b8_24ff_11e9_8ce3_8c85901a8910row3_col2\" class=\"data row3 col2\" >10</td> \n",
       "        <td id=\"T_1fb207b8_24ff_11e9_8ce3_8c85901a8910row3_col3\" class=\"data row3 col3\" >1</td> \n",
       "        <td id=\"T_1fb207b8_24ff_11e9_8ce3_8c85901a8910row3_col4\" class=\"data row3 col4\" >1.2</td> \n",
       "        <td id=\"T_1fb207b8_24ff_11e9_8ce3_8c85901a8910row3_col5\" class=\"data row3 col5\" >12</td> \n",
       "    </tr>    <tr> \n",
       "        <th id=\"T_1fb207b8_24ff_11e9_8ce3_8c85901a8910level0_row4\" class=\"row_heading level0 row4\" >4</th> \n",
       "        <td id=\"T_1fb207b8_24ff_11e9_8ce3_8c85901a8910row4_col0\" class=\"data row4 col0\" >7</td> \n",
       "        <td id=\"T_1fb207b8_24ff_11e9_8ce3_8c85901a8910row4_col1\" class=\"data row4 col1\" >0.6</td> \n",
       "        <td id=\"T_1fb207b8_24ff_11e9_8ce3_8c85901a8910row4_col2\" class=\"data row4 col2\" >8</td> \n",
       "        <td id=\"T_1fb207b8_24ff_11e9_8ce3_8c85901a8910row4_col3\" class=\"data row4 col3\" >1</td> \n",
       "        <td id=\"T_1fb207b8_24ff_11e9_8ce3_8c85901a8910row4_col4\" class=\"data row4 col4\" >1.5</td> \n",
       "        <td id=\"T_1fb207b8_24ff_11e9_8ce3_8c85901a8910row4_col5\" class=\"data row4 col5\" >12</td> \n",
       "    </tr>    <tr> \n",
       "        <th id=\"T_1fb207b8_24ff_11e9_8ce3_8c85901a8910level0_row5\" class=\"row_heading level0 row5\" >5</th> \n",
       "        <td id=\"T_1fb207b8_24ff_11e9_8ce3_8c85901a8910row5_col0\" class=\"data row5 col0\" >8</td> \n",
       "        <td id=\"T_1fb207b8_24ff_11e9_8ce3_8c85901a8910row5_col1\" class=\"data row5 col1\" >0.79</td> \n",
       "        <td id=\"T_1fb207b8_24ff_11e9_8ce3_8c85901a8910row5_col2\" class=\"data row5 col2\" >6</td> \n",
       "        <td id=\"T_1fb207b8_24ff_11e9_8ce3_8c85901a8910row5_col3\" class=\"data row5 col3\" >1</td> \n",
       "        <td id=\"T_1fb207b8_24ff_11e9_8ce3_8c85901a8910row5_col4\" class=\"data row5 col4\" >2</td> \n",
       "        <td id=\"T_1fb207b8_24ff_11e9_8ce3_8c85901a8910row5_col5\" class=\"data row5 col5\" >12</td> \n",
       "    </tr>    <tr> \n",
       "        <th id=\"T_1fb207b8_24ff_11e9_8ce3_8c85901a8910level0_row6\" class=\"row_heading level0 row6\" >6</th> \n",
       "        <td id=\"T_1fb207b8_24ff_11e9_8ce3_8c85901a8910row6_col0\" class=\"data row6 col0\" >9</td> \n",
       "        <td id=\"T_1fb207b8_24ff_11e9_8ce3_8c85901a8910row6_col1\" class=\"data row6 col1\" >0.99</td> \n",
       "        <td id=\"T_1fb207b8_24ff_11e9_8ce3_8c85901a8910row6_col2\" class=\"data row6 col2\" >5</td> \n",
       "        <td id=\"T_1fb207b8_24ff_11e9_8ce3_8c85901a8910row6_col3\" class=\"data row6 col3\" >1</td> \n",
       "        <td id=\"T_1fb207b8_24ff_11e9_8ce3_8c85901a8910row6_col4\" class=\"data row6 col4\" >2.4</td> \n",
       "        <td id=\"T_1fb207b8_24ff_11e9_8ce3_8c85901a8910row6_col5\" class=\"data row6 col5\" >12</td> \n",
       "    </tr>    <tr> \n",
       "        <th id=\"T_1fb207b8_24ff_11e9_8ce3_8c85901a8910level0_row7\" class=\"row_heading level0 row7\" >7</th> \n",
       "        <td id=\"T_1fb207b8_24ff_11e9_8ce3_8c85901a8910row7_col0\" class=\"data row7 col0\" >10</td> \n",
       "        <td id=\"T_1fb207b8_24ff_11e9_8ce3_8c85901a8910row7_col1\" class=\"data row7 col1\" >1.23</td> \n",
       "        <td id=\"T_1fb207b8_24ff_11e9_8ce3_8c85901a8910row7_col2\" class=\"data row7 col2\" >4</td> \n",
       "        <td id=\"T_1fb207b8_24ff_11e9_8ce3_8c85901a8910row7_col3\" class=\"data row7 col3\" >1</td> \n",
       "        <td id=\"T_1fb207b8_24ff_11e9_8ce3_8c85901a8910row7_col4\" class=\"data row7 col4\" >3</td> \n",
       "        <td id=\"T_1fb207b8_24ff_11e9_8ce3_8c85901a8910row7_col5\" class=\"data row7 col5\" >12</td> \n",
       "    </tr>    <tr> \n",
       "        <th id=\"T_1fb207b8_24ff_11e9_8ce3_8c85901a8910level0_row8\" class=\"row_heading level0 row8\" >8</th> \n",
       "        <td id=\"T_1fb207b8_24ff_11e9_8ce3_8c85901a8910row8_col0\" class=\"data row8 col0\" >11</td> \n",
       "        <td id=\"T_1fb207b8_24ff_11e9_8ce3_8c85901a8910row8_col1\" class=\"data row8 col1\" >1.48</td> \n",
       "        <td id=\"T_1fb207b8_24ff_11e9_8ce3_8c85901a8910row8_col2\" class=\"data row8 col2\" >3</td> \n",
       "        <td id=\"T_1fb207b8_24ff_11e9_8ce3_8c85901a8910row8_col3\" class=\"data row8 col3\" >1</td> \n",
       "        <td id=\"T_1fb207b8_24ff_11e9_8ce3_8c85901a8910row8_col4\" class=\"data row8 col4\" >4</td> \n",
       "        <td id=\"T_1fb207b8_24ff_11e9_8ce3_8c85901a8910row8_col5\" class=\"data row8 col5\" >12</td> \n",
       "    </tr>    <tr> \n",
       "        <th id=\"T_1fb207b8_24ff_11e9_8ce3_8c85901a8910level0_row9\" class=\"row_heading level0 row9\" >9</th> \n",
       "        <td id=\"T_1fb207b8_24ff_11e9_8ce3_8c85901a8910row9_col0\" class=\"data row9 col0\" >14</td> \n",
       "        <td id=\"T_1fb207b8_24ff_11e9_8ce3_8c85901a8910row9_col1\" class=\"data row9 col1\" >2.41</td> \n",
       "        <td id=\"T_1fb207b8_24ff_11e9_8ce3_8c85901a8910row9_col2\" class=\"data row9 col2\" >2</td> \n",
       "        <td id=\"T_1fb207b8_24ff_11e9_8ce3_8c85901a8910row9_col3\" class=\"data row9 col3\" >1</td> \n",
       "        <td id=\"T_1fb207b8_24ff_11e9_8ce3_8c85901a8910row9_col4\" class=\"data row9 col4\" >6</td> \n",
       "        <td id=\"T_1fb207b8_24ff_11e9_8ce3_8c85901a8910row9_col5\" class=\"data row9 col5\" >12</td> \n",
       "    </tr>    <tr> \n",
       "        <th id=\"T_1fb207b8_24ff_11e9_8ce3_8c85901a8910level0_row10\" class=\"row_heading level0 row10\" >10</th> \n",
       "        <td id=\"T_1fb207b8_24ff_11e9_8ce3_8c85901a8910row10_col0\" class=\"data row10 col0\" >18</td> \n",
       "        <td id=\"T_1fb207b8_24ff_11e9_8ce3_8c85901a8910row10_col1\" class=\"data row10 col1\" >3.98</td> \n",
       "        <td id=\"T_1fb207b8_24ff_11e9_8ce3_8c85901a8910row10_col2\" class=\"data row10 col2\" >2</td> \n",
       "        <td id=\"T_1fb207b8_24ff_11e9_8ce3_8c85901a8910row10_col3\" class=\"data row10 col3\" >1</td> \n",
       "        <td id=\"T_1fb207b8_24ff_11e9_8ce3_8c85901a8910row10_col4\" class=\"data row10 col4\" >6</td> \n",
       "        <td id=\"T_1fb207b8_24ff_11e9_8ce3_8c85901a8910row10_col5\" class=\"data row10 col5\" >12</td> \n",
       "    </tr></tbody> \n",
       "</table> "
      ],
      "text/plain": [
       "<pandas.io.formats.style.Styler at 0x1118ac470>"
      ]
     },
     "execution_count": 42,
     "metadata": {},
     "output_type": "execute_result"
    }
   ],
   "source": [
    "import numpy as np\n",
    "from IPython.display import display, Math, Latex\n",
    "\n",
    "A_s_prime_req = 0.01\n",
    "A_s_req = 4.31\n",
    "bar_sizes = np.array([3, 4, 5, 6, 7, 8, 9, 10, 11, 14, 18])\n",
    "bar_areas = np.around((bar_sizes / 8.) ** 2.0 * np.pi  / 4, 2)\n",
    "num_pos_bars = np.ceil(A_s_req / bar_areas)\n",
    "num_neg_bars = np.ceil(A_s_prime_req / bar_areas)\n",
    "space_pos_reinf = np.around(b / num_pos_bars, 2)\n",
    "space_neg_reinf = np.around(b / num_neg_bars, 2)\n",
    "\n",
    "reinf_array = np.array([bar_sizes, bar_areas, num_pos_bars, num_neg_bars,\n",
    "               space_pos_reinf, space_neg_reinf])\n",
    "reinf_array = np.transpose(reinf_array)\n",
    "\n",
    "df = pd.DataFrame(reinf_array, columns=['Bar #', 'A_b \\n({in}^2)', \n",
    "                                        '# of Required Positive Bars',\n",
    "                                        '# of Required Negative Bars',\n",
    "                                        'Positive Bar Spacing \\n (in)',\n",
    "                                        'Negative Bar Spacing \\n(in)'])\n",
    "styles = [dict(selector=\"td\", props=[(\"text-align\", \"center\"), (\"font-size\", \"120%\")]),\n",
    "          dict(selector=\"th\", props=[(\"text-align\", \"center\"), (\"font-size\", \"120%\")])]\n",
    "html = (df.style.set_table_styles(styles))\n",
    "df.style.hide_index()\n",
    "html"
   ]
  },
  {
   "cell_type": "markdown",
   "metadata": {
    "code_folding": []
   },
   "source": []
  },
  {
   "cell_type": "markdown",
   "metadata": {},
   "source": []
  },
  {
   "cell_type": "code",
   "execution_count": null,
   "metadata": {},
   "outputs": [],
   "source": []
  }
 ],
 "metadata": {
  "kernelspec": {
   "display_name": "Python 3",
   "language": "python",
   "name": "python3"
  },
  "language_info": {
   "codemirror_mode": {
    "name": "ipython",
    "version": 3
   },
   "file_extension": ".py",
   "mimetype": "text/x-python",
   "name": "python",
   "nbconvert_exporter": "python",
   "pygments_lexer": "ipython3",
   "version": "3.7.0"
  },
  "latex_envs": {
   "LaTeX_envs_menu_present": false,
   "autoclose": false,
   "autocomplete": true,
   "bibliofile": "biblio.bib",
   "cite_by": "apalike",
   "current_citInitial": 1,
   "eqLabelWithNumbers": true,
   "eqNumInitial": 1,
   "hotkeys": {
    "equation": "Ctrl-E",
    "itemize": "Ctrl-I"
   },
   "labels_anchors": true,
   "latex_user_defs": false,
   "report_style_numbering": false,
   "user_envs_cfg": false
  }
 },
 "nbformat": 4,
 "nbformat_minor": 2
}
