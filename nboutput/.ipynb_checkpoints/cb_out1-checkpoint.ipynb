{
 "cells": [
  {
   "cell_type": "code",
   "execution_count": 5,
   "metadata": {
    "code_folding": [],
    "hide_input": false,
    "papermill": {
     "duration": 0.303971,
     "end_time": "2019-02-01T02:28:40.491096",
     "exception": false,
     "start_time": "2019-02-01T02:28:40.187125",
     "status": "completed"
    },
    "scrolled": false,
    "tags": [
     "imports"
    ]
   },
   "outputs": [],
   "source": [
    "import json\n",
    "import numpy as np\n",
    "import pandas as pd\n",
    "from pylatex import Document, Section, Subsection, Math, NoEscape, Package\n",
    "from IPython.display import display, Math, Latex\n"
   ]
  },
  {
   "cell_type": "code",
   "execution_count": 6,
   "metadata": {
    "papermill": {
     "duration": 0.017616,
     "end_time": "2019-02-01T02:28:40.546490",
     "exception": false,
     "start_time": "2019-02-01T02:28:40.528874",
     "status": "completed"
    },
    "tags": [
     "injected-parameters"
    ]
   },
   "outputs": [],
   "source": [
    "# Parameters\n",
    "M_u = 500.0\n",
    "f_c = 5.0\n",
    "f_y = 60.0\n",
    "b = 12.0\n",
    "h = 16.0\n",
    "d = 15.0\n",
    "d_prime = 1.0\n"
   ]
  },
  {
   "cell_type": "markdown",
   "metadata": {
    "papermill": {
     "duration": 0.007649,
     "end_time": "2019-02-01T02:28:40.562140",
     "exception": false,
     "start_time": "2019-02-01T02:28:40.554491",
     "status": "completed"
    },
    "tags": []
   },
   "source": [
    "# I. Design Parameters"
   ]
  },
  {
   "cell_type": "markdown",
   "metadata": {
    "papermill": {
     "duration": 0.0075,
     "end_time": "2019-02-01T02:28:40.577556",
     "exception": false,
     "start_time": "2019-02-01T02:28:40.570056",
     "status": "completed"
    },
    "tags": []
   },
   "source": [
    "## 1. Loads"
   ]
  },
  {
   "cell_type": "code",
   "execution_count": 7,
   "metadata": {
    "hide_input": false,
    "papermill": {
     "duration": 0.055192,
     "end_time": "2019-02-01T02:28:40.639954",
     "exception": false,
     "start_time": "2019-02-01T02:28:40.584762",
     "status": "completed"
    },
    "scrolled": true,
    "tags": []
   },
   "outputs": [
    {
     "data": {
      "text/latex": [
       "\\begin{equation*} M_u = 500.0 \\text{ k-ft}\\end{equation*}"
      ],
      "text/plain": [
       "<IPython.core.display.Latex object>"
      ]
     },
     "metadata": {},
     "output_type": "display_data"
    }
   ],
   "source": [
    "# Initialize document\n",
    "doc = Document()\n",
    "doc.packages.append(Package('amsmath'));\n",
    "doc.packages.append(Package('booktabs'))\n",
    "section = Section('Parameters')\n",
    "subsection = Subsection('Design Load')\n",
    "load_s = '\\\\begin{equation*} M_u = %s \\\\text{ k-ft}\\\\label{eq:einstein} \\\\tag{1}\\\\end{equation*}'\n",
    "test = str.replace(load_s, \"\\\\\\\\\", \"\\\\\")\n",
    "# add to display\n",
    "display(Latex(load_s % (M_u)))\n",
    "# add to report\n",
    "subsection.append(NoEscape(test % (M_u)))\n",
    "section.append(subsection)"
   ]
  },
  {
   "cell_type": "markdown",
   "metadata": {
    "papermill": {
     "duration": 0.013994,
     "end_time": "2019-02-01T02:28:40.662962",
     "exception": false,
     "start_time": "2019-02-01T02:28:40.648968",
     "status": "completed"
    },
    "tags": []
   },
   "source": [
    "## 2. Material Properties"
   ]
  },
  {
   "cell_type": "code",
   "execution_count": 8,
   "metadata": {
    "papermill": {
     "duration": 0.030174,
     "end_time": "2019-02-01T02:28:40.701823",
     "exception": false,
     "start_time": "2019-02-01T02:28:40.671649",
     "status": "completed"
    },
    "tags": []
   },
   "outputs": [],
   "source": [
    "subsection = Subsection('Material Properties')\n",
    "\n",
    "# Concrete\n",
    "epsilon_c = 0.003 # strain limit\n",
    "# Set beta (based on concrete strength, f_c)\n",
    "if f_c <= 4:\n",
    "    beta = 0.85\n",
    "else:\n",
    "    beta = round(max(0.65, 0.85 - 0.05 * (f_c / 4.)), 2)\n",
    "\n",
    "concrete_array = np.array([f_c, epsilon_c, beta])\n",
    "concrete_df = pd.DataFrame(columns=['$f\\'_c$', r'$\\epsilon_c$', r'$\\beta$'])\n",
    "concrete_df.loc[0] =[f_c, epsilon_c, beta]\n",
    "\n",
    "cdf = concrete_df.to_latex(escape=False, index=False)\n",
    "# Steel\n",
    "E_s = 29000. # ksi\n",
    "epsilon_y = 0.005\n",
    "\n",
    "# Add properties to report as tables\n",
    "\n",
    "subsection.append(NoEscape(cdf))\n",
    "section.append(subsection)\n",
    "doc.append(section)\n"
   ]
  },
  {
   "cell_type": "markdown",
   "metadata": {
    "hide_input": false,
    "papermill": {
     "duration": 0.012906,
     "end_time": "2019-02-01T02:28:40.723674",
     "exception": false,
     "start_time": "2019-02-01T02:28:40.710768",
     "status": "completed"
    },
    "tags": []
   },
   "source": [
    "## 3. Section Properties"
   ]
  },
  {
   "cell_type": "code",
   "execution_count": 9,
   "metadata": {
    "papermill": {
     "duration": 1.493915,
     "end_time": "2019-02-01T02:28:42.268441",
     "exception": false,
     "start_time": "2019-02-01T02:28:40.774526",
     "status": "completed"
    },
    "tags": []
   },
   "outputs": [],
   "source": [
    "doc.generate_pdf('beam_ex', clean_tex=True)"
   ]
  },
  {
   "cell_type": "code",
   "execution_count": null,
   "metadata": {
    "papermill": {
     "duration": 0.016442,
     "end_time": "2019-02-01T02:28:42.293396",
     "exception": false,
     "start_time": "2019-02-01T02:28:42.276954",
     "status": "completed"
    },
    "tags": []
   },
   "outputs": [],
   "source": []
  },
  {
   "cell_type": "code",
   "execution_count": null,
   "metadata": {
    "papermill": {
     "duration": 0.017839,
     "end_time": "2019-02-01T02:28:42.327029",
     "exception": false,
     "start_time": "2019-02-01T02:28:42.309190",
     "status": "completed"
    },
    "tags": []
   },
   "outputs": [],
   "source": []
  }
 ],
 "metadata": {
  "kernelspec": {
   "display_name": "Python 3",
   "language": "python",
   "name": "python3"
  },
  "language_info": {
   "codemirror_mode": {
    "name": "ipython",
    "version": 3
   },
   "file_extension": ".py",
   "mimetype": "text/x-python",
   "name": "python",
   "nbconvert_exporter": "python",
   "pygments_lexer": "ipython3",
   "version": "3.7.0"
  },
  "latex_envs": {
   "LaTeX_envs_menu_present": true,
   "autoclose": false,
   "autocomplete": true,
   "bibliofile": "biblio.bib",
   "cite_by": "apalike",
   "current_citInitial": 1,
   "eqLabelWithNumbers": true,
   "eqNumInitial": 1,
   "hotkeys": {
    "equation": "Ctrl-E",
    "itemize": "Ctrl-I"
   },
   "labels_anchors": false,
   "latex_user_defs": false,
   "report_style_numbering": false,
   "user_envs_cfg": false
  },
  "papermill": {
   "duration": 3.348837,
   "end_time": "2019-02-01T02:28:42.710525",
   "environment_variables": {},
   "exception": null,
   "input_path": "./concrete_beam_design.ipynb",
   "output_path": "./nboutput/cb_out1.ipynb",
   "parameters": {
    "M_u": 500,
    "b": 12,
    "d": 15,
    "d_prime": 1,
    "f_c": 5,
    "f_y": 60,
    "h": 16
   },
   "start_time": "2019-02-01T02:28:39.361688",
   "version": "0.17.1"
  }
 },
 "nbformat": 4,
 "nbformat_minor": 2
}
