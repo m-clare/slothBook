{
 "cells": [
  {
   "cell_type": "code",
   "execution_count": 2,
   "metadata": {
    "code_folding": [],
    "hide_input": false,
    "papermill": {
     "duration": 0.315768,
     "end_time": "2019-02-01T02:28:37.142559",
     "exception": false,
     "start_time": "2019-02-01T02:28:36.826791",
     "status": "completed"
    },
    "scrolled": false,
    "tags": [
     "imports"
    ]
   },
   "outputs": [
    {
     "ename": "FileNotFoundError",
     "evalue": "[Errno 2] No such file or directory: './beam01.json'",
     "output_type": "error",
     "traceback": [
      "\u001b[0;31m---------------------------------------------------------------------------\u001b[0m",
      "\u001b[0;31mFileNotFoundError\u001b[0m                         Traceback (most recent call last)",
      "\u001b[0;32m<ipython-input-2-7b99b0de4999>\u001b[0m in \u001b[0;36m<module>\u001b[0;34m\u001b[0m\n\u001b[1;32m      7\u001b[0m \u001b[0mfp\u001b[0m \u001b[0;34m=\u001b[0m \u001b[0;34m'./beam01.json'\u001b[0m\u001b[0;34m\u001b[0m\u001b[0m\n\u001b[1;32m      8\u001b[0m \u001b[0;34m\u001b[0m\u001b[0m\n\u001b[0;32m----> 9\u001b[0;31m \u001b[0;32mwith\u001b[0m \u001b[0mopen\u001b[0m\u001b[0;34m(\u001b[0m\u001b[0mfp\u001b[0m\u001b[0;34m)\u001b[0m \u001b[0;32mas\u001b[0m \u001b[0mf\u001b[0m\u001b[0;34m:\u001b[0m\u001b[0;34m\u001b[0m\u001b[0m\n\u001b[0m\u001b[1;32m     10\u001b[0m     \u001b[0mbeam_data\u001b[0m \u001b[0;34m=\u001b[0m \u001b[0mjson\u001b[0m\u001b[0;34m.\u001b[0m\u001b[0mload\u001b[0m\u001b[0;34m(\u001b[0m\u001b[0mf\u001b[0m\u001b[0;34m)\u001b[0m\u001b[0;34m\u001b[0m\u001b[0m\n",
      "\u001b[0;31mFileNotFoundError\u001b[0m: [Errno 2] No such file or directory: './beam01.json'"
     ]
    }
   ],
   "source": [
    "import json\n",
    "import numpy as np\n",
    "import pandas as pd\n",
    "from pylatex import Document, Section, Subsection, Math, NoEscape, Package\n",
    "from IPython.display import display, Math, Latex\n",
    "\n",
    "fp = './beam01.json'\n",
    "\n",
    "with open(fp) as f:\n",
    "    beam_data = json.load(f)"
   ]
  },
  {
   "cell_type": "code",
   "execution_count": null,
   "metadata": {
    "papermill": {
     "duration": 0.023347,
     "end_time": "2019-02-01T02:28:37.172389",
     "exception": false,
     "start_time": "2019-02-01T02:28:37.149042",
     "status": "completed"
    },
    "scrolled": true,
    "tags": [
     "parameters"
    ]
   },
   "outputs": [],
   "source": [
    "# Loads\n",
    "M_u = beam_data['M_u'] #kip-ft\n",
    "\n",
    "# Material Properties\n",
    "f_c = beam_data['f_c']\n",
    "f_y = beam_data['f_y']\n",
    "\n",
    "# Section Properties\n",
    "b   = beam_data['b']\n",
    "h   = beam_data['h']\n",
    "d   = beam_data['d']"
   ]
  },
  {
   "cell_type": "code",
   "execution_count": null,
   "metadata": {
    "papermill": {
     "duration": 0.012824,
     "end_time": "2019-02-01T02:28:37.192134",
     "exception": false,
     "start_time": "2019-02-01T02:28:37.179310",
     "status": "completed"
    },
    "tags": [
     "injected-parameters"
    ]
   },
   "outputs": [],
   "source": [
    "# Parameters\n",
    "M_u = 500.0\n",
    "f_c = 6.0\n",
    "f_y = 60.0\n",
    "b = 12.0\n",
    "h = 16.0\n",
    "d = 15.0\n",
    "d_prime = 1.0\n"
   ]
  },
  {
   "cell_type": "markdown",
   "metadata": {
    "papermill": {
     "duration": 0.005939,
     "end_time": "2019-02-01T02:28:37.204618",
     "exception": false,
     "start_time": "2019-02-01T02:28:37.198679",
     "status": "completed"
    },
    "tags": []
   },
   "source": [
    "# I. Design Parameters"
   ]
  },
  {
   "cell_type": "markdown",
   "metadata": {
    "papermill": {
     "duration": 0.008481,
     "end_time": "2019-02-01T02:28:37.219846",
     "exception": false,
     "start_time": "2019-02-01T02:28:37.211365",
     "status": "completed"
    },
    "tags": []
   },
   "source": [
    "## 1. Loads"
   ]
  },
  {
   "cell_type": "code",
   "execution_count": null,
   "metadata": {
    "hide_input": false,
    "papermill": {
     "duration": 0.053575,
     "end_time": "2019-02-01T02:28:37.281283",
     "exception": false,
     "start_time": "2019-02-01T02:28:37.227708",
     "status": "completed"
    },
    "scrolled": true,
    "tags": []
   },
   "outputs": [],
   "source": [
    "# Initialize document\n",
    "doc = Document()\n",
    "doc.packages.append(Package('amsmath'));\n",
    "doc.packages.append(Package('booktabs'))\n",
    "section = Section('Parameters')\n",
    "subsection = Subsection('Design Load')\n",
    "load_s = '\\\\begin{equation*} M_u = %s \\\\text{ k-ft}\\\\end{equation*}'\n",
    "test = str.replace(load_s, \"\\\\\\\\\", \"\\\\\")\n",
    "# add to display\n",
    "display(Latex(load_s % (M_u)))\n",
    "# add to report\n",
    "subsection.append(NoEscape(test % (M_u)))\n",
    "section.append(subsection)"
   ]
  },
  {
   "cell_type": "markdown",
   "metadata": {
    "papermill": {
     "duration": 0.013053,
     "end_time": "2019-02-01T02:28:37.301097",
     "exception": false,
     "start_time": "2019-02-01T02:28:37.288044",
     "status": "completed"
    },
    "tags": []
   },
   "source": [
    "## 2. Material Properties"
   ]
  },
  {
   "cell_type": "code",
   "execution_count": null,
   "metadata": {
    "papermill": {
     "duration": 0.024538,
     "end_time": "2019-02-01T02:28:37.333036",
     "exception": false,
     "start_time": "2019-02-01T02:28:37.308498",
     "status": "completed"
    },
    "tags": []
   },
   "outputs": [],
   "source": [
    "subsection = Subsection('Material Properties')\n",
    "\n",
    "# Concrete\n",
    "epsilon_c = 0.003 # strain limit\n",
    "# Set beta (based on concrete strength, f_c)\n",
    "if f_c <= 4:\n",
    "    beta = 0.85\n",
    "else:\n",
    "    beta = round(max(0.65, 0.85 - 0.05 * (f_c / 4.)), 2)\n",
    "\n",
    "concrete_array = np.array([f_c, epsilon_c, beta])\n",
    "concrete_df = pd.DataFrame(columns=['$f\\'_c$', r'$\\epsilon_c$', r'$\\beta$'])\n",
    "concrete_df.loc[0] =[f_c, epsilon_c, beta]\n",
    "\n",
    "cdf = concrete_df.to_latex(escape=False, index=False)\n",
    "# Steel\n",
    "E_s = 29000. # ksi\n",
    "epsilon_y = 0.005\n",
    "\n",
    "# Add properties to report as tables\n",
    "\n",
    "subsection.append(NoEscape(cdf))\n",
    "section.append(subsection)\n",
    "doc.append(section)\n"
   ]
  },
  {
   "cell_type": "markdown",
   "metadata": {
    "hide_input": false,
    "papermill": {
     "duration": 0.006555,
     "end_time": "2019-02-01T02:28:37.346460",
     "exception": false,
     "start_time": "2019-02-01T02:28:37.339905",
     "status": "completed"
    },
    "tags": []
   },
   "source": [
    "## 3. Section Properties"
   ]
  },
  {
   "cell_type": "markdown",
   "metadata": {
    "papermill": {
     "duration": 0.00665,
     "end_time": "2019-02-01T02:28:37.360312",
     "exception": false,
     "start_time": "2019-02-01T02:28:37.353662",
     "status": "completed"
    },
    "scrolled": true,
    "tags": []
   },
   "source": []
  },
  {
   "cell_type": "markdown",
   "metadata": {
    "papermill": {
     "duration": 0.006447,
     "end_time": "2019-02-01T02:28:37.378790",
     "exception": false,
     "start_time": "2019-02-01T02:28:37.372343",
     "status": "completed"
    },
    "tags": []
   },
   "source": []
  },
  {
   "cell_type": "code",
   "execution_count": null,
   "metadata": {
    "papermill": {
     "duration": 1.439834,
     "end_time": "2019-02-01T02:28:38.825910",
     "exception": false,
     "start_time": "2019-02-01T02:28:37.386076",
     "status": "completed"
    },
    "tags": []
   },
   "outputs": [],
   "source": [
    "doc.generate_pdf('beam_ex', clean_tex=True)"
   ]
  },
  {
   "cell_type": "code",
   "execution_count": null,
   "metadata": {
    "papermill": {
     "duration": 0.013568,
     "end_time": "2019-02-01T02:28:38.847600",
     "exception": false,
     "start_time": "2019-02-01T02:28:38.834032",
     "status": "completed"
    },
    "tags": []
   },
   "outputs": [],
   "source": []
  },
  {
   "cell_type": "code",
   "execution_count": null,
   "metadata": {
    "papermill": {
     "duration": 0.015294,
     "end_time": "2019-02-01T02:28:38.870318",
     "exception": false,
     "start_time": "2019-02-01T02:28:38.855024",
     "status": "completed"
    },
    "tags": []
   },
   "outputs": [],
   "source": []
  }
 ],
 "metadata": {
  "kernelspec": {
   "display_name": "Python 3",
   "language": "python",
   "name": "python3"
  },
  "language_info": {
   "codemirror_mode": {
    "name": "ipython",
    "version": 3
   },
   "file_extension": ".py",
   "mimetype": "text/x-python",
   "name": "python",
   "nbconvert_exporter": "python",
   "pygments_lexer": "ipython3",
   "version": "3.7.0"
  },
  "latex_envs": {
   "LaTeX_envs_menu_present": true,
   "autoclose": false,
   "autocomplete": true,
   "bibliofile": "biblio.bib",
   "cite_by": "apalike",
   "current_citInitial": 1,
   "eqLabelWithNumbers": true,
   "eqNumInitial": 1,
   "hotkeys": {
    "equation": "Ctrl-E",
    "itemize": "Ctrl-I"
   },
   "labels_anchors": false,
   "latex_user_defs": false,
   "report_style_numbering": false,
   "user_envs_cfg": false
  },
  "papermill": {
   "duration": 3.404906,
   "end_time": "2019-02-01T02:28:39.323030",
   "environment_variables": {},
   "exception": null,
   "input_path": "./concrete_beam_design.ipynb",
   "output_path": "./nboutput/cb_out0.ipynb",
   "parameters": {
    "M_u": 500,
    "b": 12,
    "d": 15,
    "d_prime": 1,
    "f_c": 6,
    "f_y": 60,
    "h": 16
   },
   "start_time": "2019-02-01T02:28:35.918124",
   "version": "0.17.1"
  }
 },
 "nbformat": 4,
 "nbformat_minor": 2
}
