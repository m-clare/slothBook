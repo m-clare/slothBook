{
 "cells": [
  {
   "cell_type": "markdown",
   "metadata": {},
   "source": [
    "# Concrete Flexural Beam Design"
   ]
  },
  {
   "cell_type": "code",
   "execution_count": 2,
   "metadata": {
    "code_folding": [],
    "hide_input": false,
    "scrolled": true
   },
   "outputs": [],
   "source": [
    "import json\n",
    "import numpy as np\n",
    "import pandas as pd\n",
    "\n",
    "fp = './beam01.json'\n",
    "\n",
    "with open(fp) as f:\n",
    "    beam_data = json.load(f)\n",
    "    \n"
   ]
  },
  {
   "cell_type": "code",
   "execution_count": 3,
   "metadata": {},
   "outputs": [
    {
     "ename": "SyntaxError",
     "evalue": "unexpected character after line continuation character (<ipython-input-3-68b77aa51a22>, line 9)",
     "output_type": "error",
     "traceback": [
      "\u001b[0;36m  File \u001b[0;32m\"<ipython-input-3-68b77aa51a22>\"\u001b[0;36m, line \u001b[0;32m9\u001b[0m\n\u001b[0;31m    math = Math(data=[\\frac{a}{b}])\u001b[0m\n\u001b[0m                                   ^\u001b[0m\n\u001b[0;31mSyntaxError\u001b[0m\u001b[0;31m:\u001b[0m unexpected character after line continuation character\n"
     ]
    }
   ],
   "source": [
    "# Post Processing\n",
    "from pylatex import Document, Section, Subsection, Math\n",
    "\n",
    "doc = Document()\n",
    "section = Section('Design Parameters')\n",
    "subsection = Subsection('Loads')\n",
    "a = 1\n",
    "b = 2\n",
    "math = Math(data=[\\frac{a}{b}])\n"
   ]
  },
  {
   "cell_type": "markdown",
   "metadata": {},
   "source": [
    "## I. Design Parameters"
   ]
  },
  {
   "cell_type": "code",
   "execution_count": null,
   "metadata": {},
   "outputs": [],
   "source": []
  },
  {
   "cell_type": "markdown",
   "metadata": {
    "hide_input": false
   },
   "source": [
    "### 1. Loads"
   ]
  },
  {
   "cell_type": "code",
   "execution_count": 4,
   "metadata": {
    "hide_input": false
   },
   "outputs": [],
   "source": [
    "M_u = beam_data['M_u'] # kip-ft"
   ]
  },
  {
   "cell_type": "markdown",
   "metadata": {
    "variables": {
     "M_u": "500.0"
    }
   },
   "source": [
    "$M_u = ${{M_u}} k-ft"
   ]
  },
  {
   "cell_type": "markdown",
   "metadata": {},
   "source": [
    "### 2. Section Properties"
   ]
  },
  {
   "cell_type": "code",
   "execution_count": null,
   "metadata": {
    "hide_input": false
   },
   "outputs": [],
   "source": []
  },
  {
   "cell_type": "markdown",
   "metadata": {
    "hide_input": true,
    "variables": {
     "E_s": "<p><strong>NameError</strong>: name &#39;E_s&#39; is not defined</p>\n",
     "beta": "<p><strong>NameError</strong>: name &#39;beta&#39; is not defined</p>\n",
     "epsilon_c": "<p><strong>NameError</strong>: name &#39;epsilon_c&#39; is not defined</p>\n",
     "epsilon_y": "<p><strong>NameError</strong>: name &#39;epsilon_y&#39; is not defined</p>\n",
     "f_c": "<p><strong>NameError</strong>: name &#39;f_c&#39; is not defined</p>\n",
     "f_y": "<p><strong>NameError</strong>: name &#39;f_y&#39; is not defined</p>\n"
    }
   },
   "source": [
    "<table>\n",
    "    <tbody>\n",
    "        <tr>\n",
    "            <td></td><td>Concrete</td><td></td>\n",
    "            <td></td><td>Steel</td><td></td>\n",
    "        </tr>\n",
    "        <tr>\n",
    "            <td>$f'_c = $</td>\n",
    "            <td>{{f_c}}</td>\n",
    "            <td>ksi</td>\n",
    "            <td>$f_y =$</td>\n",
    "            <td>{{f_y}}</td>\n",
    "            <td>ksi</td>\n",
    "        </tr>\n",
    "        <tr>\n",
    "            <td>$\\epsilon_c = $</td>\n",
    "            <td>{{epsilon_c}}</td>\n",
    "            <td></td>\n",
    "            <td>$\\epsilon_y = $</td>\n",
    "            <td>{{epsilon_y}}</td>\n",
    "            <td></td>\n",
    "        </tr>\n",
    "        <tr>\n",
    "            <td>$\\beta = $</td>\n",
    "            <td>{{beta}}</td>\n",
    "            <td></td>\n",
    "            <td>$E_s = $</td>\n",
    "            <td>{{E_s}}</td>\n",
    "            <td>ksi</td>\n",
    "        </tr>\n",
    "    </tbody>\n",
    "</table>"
   ]
  },
  {
   "cell_type": "markdown",
   "metadata": {},
   "source": [
    "### 3. Section Geometry"
   ]
  },
  {
   "cell_type": "code",
   "execution_count": null,
   "metadata": {
    "hide_input": false
   },
   "outputs": [],
   "source": []
  },
  {
   "cell_type": "markdown",
   "metadata": {
    "variables": {
     "b": "<p><strong>NameError</strong>: name &#39;b&#39; is not defined</p>\n",
     "d": "<p><strong>NameError</strong>: name &#39;d&#39; is not defined</p>\n",
     "d_prime": "<p><strong>NameError</strong>: name &#39;d_prime&#39; is not defined</p>\n",
     "h": "<p><strong>NameError</strong>: name &#39;h&#39; is not defined</p>\n"
    }
   },
   "source": [
    "<table>\n",
    "    <tbody>\n",
    "        <tr>\n",
    "            <td></td><td>Concrete</td><td></td>\n",
    "        </tr>\n",
    "        <tr>\n",
    "            <td>$ b =$</td>\n",
    "            <td>{{b}}</td>\n",
    "            <td>in</td>\n",
    "        </tr>\n",
    "        <tr>\n",
    "            <td>$ h =$</td>\n",
    "            <td>{{h}}</td>\n",
    "            <td>in</td>\n",
    "        </tr>\n",
    "        <tr>\n",
    "            <td>$ d =$</td>\n",
    "            <td>{{d}}</td>\n",
    "            <td>in</td>\n",
    "        </tr>\n",
    "        <tr>\n",
    "            <td>$ d' =$</td>\n",
    "            <td>{{d_prime}}</td>\n",
    "            <td>in</td>\n",
    "        </tr>\n",
    "    </tbody>\n",
    "</table>"
   ]
  },
  {
   "cell_type": "markdown",
   "metadata": {},
   "source": [
    "## II. Calculate $\\rho_{B}$ and $x_{B}$"
   ]
  },
  {
   "cell_type": "code",
   "execution_count": 5,
   "metadata": {
    "scrolled": false
   },
   "outputs": [
    {
     "data": {
      "text/latex": [
       "\\begin{align*} \\xi_{b} &= \\frac{\\epsilon_c}{\\epsilon_c + \\epsilon_y} \\\\ \\xi_b &= \\frac{0.003}{0.003 + 0.005} \\end{align*}"
      ],
      "text/plain": [
       "<IPython.core.display.Latex object>"
      ]
     },
     "metadata": {},
     "output_type": "display_data"
    }
   ],
   "source": [
    "from IPython.display import display, Math, Latex\n",
    "epsilon_c = 0.003\n",
    "epsilon_y = 0.005\n",
    "xi_b = epsilon_c / (epsilon_c + epsilon_y)\n",
    "#rho_b = round(0.85 * beta * (f_c / f_y) * xi_b, 5)\n",
    "#x_lim = xi_b * d\n",
    "\n",
    "display(Latex('\\\\begin{align*} \\\\xi_{b} &= \\\\frac{\\epsilon_c}{\\epsilon_c + \\epsilon_y} \\\\\\\\ \\\\xi_b &= \\\\frac{%s}{%s + %s} \\\\end{align*}'%(epsilon_c, epsilon_c, epsilon_y)))\n"
   ]
  },
  {
   "cell_type": "markdown",
   "metadata": {
    "variables": {
     "rho_b": "<p><strong>NameError</strong>: name &#39;rho_b&#39; is not defined</p>\n",
     "x_lim": "<p><strong>NameError</strong>: name &#39;x_lim&#39; is not defined</p>\n"
    }
   },
   "source": [
    "\\begin{equation*}\n",
    "\\xi_b = \\frac{\\epsilon_c}{\\epsilon_c + \\epsilon_y}\n",
    "\\end{equation*}\n",
    "\n",
    "$\\rho_b =$ {{rho_b}}, $x_b =$ {{x_lim}} in"
   ]
  },
  {
   "cell_type": "markdown",
   "metadata": {},
   "source": [
    "## III. Flexural Strength"
   ]
  },
  {
   "cell_type": "code",
   "execution_count": 6,
   "metadata": {},
   "outputs": [
    {
     "ename": "NameError",
     "evalue": "name 'f_c' is not defined",
     "output_type": "error",
     "traceback": [
      "\u001b[0;31m---------------------------------------------------------------------------\u001b[0m",
      "\u001b[0;31mNameError\u001b[0m                                 Traceback (most recent call last)",
      "\u001b[0;32m<ipython-input-6-ca7b5ea83250>\u001b[0m in \u001b[0;36m<module>\u001b[0;34m\u001b[0m\n\u001b[1;32m      1\u001b[0m \u001b[0mphi\u001b[0m \u001b[0;34m=\u001b[0m \u001b[0;36m0.90\u001b[0m\u001b[0;34m\u001b[0m\u001b[0m\n\u001b[0;32m----> 2\u001b[0;31m \u001b[0mM_u_lim\u001b[0m \u001b[0;34m=\u001b[0m \u001b[0mphi\u001b[0m \u001b[0;34m*\u001b[0m \u001b[0;36m0.85\u001b[0m\u001b[0;34m*\u001b[0m \u001b[0mf_c\u001b[0m \u001b[0;34m*\u001b[0m \u001b[0mbeta\u001b[0m \u001b[0;34m*\u001b[0m \u001b[0mb\u001b[0m \u001b[0;34m*\u001b[0m \u001b[0mx_lim\u001b[0m \u001b[0;34m*\u001b[0m \u001b[0;34m(\u001b[0m\u001b[0md\u001b[0m \u001b[0;34m-\u001b[0m \u001b[0mbeta\u001b[0m \u001b[0;34m*\u001b[0m \u001b[0mx_lim\u001b[0m \u001b[0;34m/\u001b[0m \u001b[0;36m2.\u001b[0m\u001b[0;34m)\u001b[0m \u001b[0;34m*\u001b[0m \u001b[0;36m1\u001b[0m \u001b[0;34m/\u001b[0m \u001b[0;36m12.\u001b[0m\u001b[0;34m\u001b[0m\u001b[0m\n\u001b[0m\u001b[1;32m      3\u001b[0m \u001b[0;32mif\u001b[0m \u001b[0mM_u_lim\u001b[0m \u001b[0;34m>=\u001b[0m \u001b[0mM_u\u001b[0m\u001b[0;34m:\u001b[0m\u001b[0;34m\u001b[0m\u001b[0m\n\u001b[1;32m      4\u001b[0m     \u001b[0mprint\u001b[0m\u001b[0;34m(\u001b[0m\u001b[0;34m\"Tension reinforcement only\"\u001b[0m\u001b[0;34m)\u001b[0m\u001b[0;34m\u001b[0m\u001b[0m\n\u001b[1;32m      5\u001b[0m     \u001b[0mx_in\u001b[0m \u001b[0;34m=\u001b[0m \u001b[0md\u001b[0m \u001b[0;34m/\u001b[0m \u001b[0mbeta\u001b[0m \u001b[0;34m*\u001b[0m \u001b[0;34m(\u001b[0m\u001b[0;36m1\u001b[0m \u001b[0;34m-\u001b[0m \u001b[0;34m(\u001b[0m\u001b[0;36m1\u001b[0m \u001b[0;34m-\u001b[0m \u001b[0mM_u\u001b[0m \u001b[0;34m*\u001b[0m \u001b[0;36m12.\u001b[0m \u001b[0;34m/\u001b[0m \u001b[0;34m(\u001b[0m\u001b[0;36m0.425\u001b[0m \u001b[0;34m*\u001b[0m \u001b[0mphi\u001b[0m \u001b[0;34m*\u001b[0m \u001b[0mf_c\u001b[0m \u001b[0;34m*\u001b[0m \u001b[0mb\u001b[0m \u001b[0;34m*\u001b[0m \u001b[0md\u001b[0m \u001b[0;34m**\u001b[0m \u001b[0;36m2.\u001b[0m\u001b[0;34m)\u001b[0m\u001b[0;34m)\u001b[0m \u001b[0;34m**\u001b[0m \u001b[0;36m0.5\u001b[0m\u001b[0;34m)\u001b[0m\u001b[0;34m\u001b[0m\u001b[0m\n",
      "\u001b[0;31mNameError\u001b[0m: name 'f_c' is not defined"
     ]
    }
   ],
   "source": [
    "phi = 0.90\n",
    "M_u_lim = phi * 0.85* f_c * beta * b * x_lim * (d - beta * x_lim / 2.) * 1 / 12.\n",
    "if M_u_lim >= M_u:\n",
    "    print(\"Tension reinforcement only\")\n",
    "    x_in = d / beta * (1 - (1 - M_u * 12. / (0.425 * phi * f_c * b * d ** 2.)) ** 0.5)\n",
    "else:\n",
    "    print(\"Compression reinforcement needed\")\n",
    "    x_in = x_lim\n",
    "print(x_in)\n",
    "\n"
   ]
  },
  {
   "cell_type": "markdown",
   "metadata": {},
   "source": [
    "## IV. Bars Required"
   ]
  },
  {
   "cell_type": "code",
   "execution_count": 7,
   "metadata": {},
   "outputs": [
    {
     "ename": "SyntaxError",
     "evalue": "EOL while scanning string literal (<ipython-input-7-4318bd96d1cb>, line 19)",
     "output_type": "error",
     "traceback": [
      "\u001b[0;36m  File \u001b[0;32m\"<ipython-input-7-4318bd96d1cb>\"\u001b[0;36m, line \u001b[0;32m19\u001b[0m\n\u001b[0;31m    df.style.set_properties(**{'text-align': 'center\u001b[0m\n\u001b[0m                                                    ^\u001b[0m\n\u001b[0;31mSyntaxError\u001b[0m\u001b[0;31m:\u001b[0m EOL while scanning string literal\n"
     ]
    }
   ],
   "source": [
    "A_s_prime_req = 0.01\n",
    "A_s_req = 4.31\n",
    "bar_sizes = np.array([3, 4, 5, 6, 7, 8, 9, 10, 11, 14, 18])\n",
    "bar_areas = np.around((bar_sizes / 8.) ** 2.0 * np.pi  / 4, 2)\n",
    "num_pos_bars = np.ceil(A_s_req / bar_areas)\n",
    "num_neg_bars = np.ceil(A_s_prime_req / bar_areas)\n",
    "space_pos_reinf = np.around(b / num_pos_bars, 2)\n",
    "space_neg_reinf = np.around(b / num_neg_bars, 2)\n",
    "\n",
    "reinf_array = np.array([bar_sizes, bar_areas, num_pos_bars, num_neg_bars,\n",
    "               space_pos_reinf, space_neg_reinf])\n",
    "reinf_array = np.transpose(reinf_array)\n",
    "\n",
    "df = pd.DataFrame(reinf_array, columns=['Bar #', '$A_b$ (${in}^2$)', \n",
    "                                        '# of Required Positive Bars',\n",
    "                                        '# of Required Negative Bars',\n",
    "                                        'Positive Bar Spacing (in)',\n",
    "                                        'Negative Bar Spacing (in)'])\n",
    "df.style.set_properties(**{'text-align': 'center\n",
    "'})\n",
    "test = df.to_latex()"
   ]
  },
  {
   "cell_type": "code",
   "execution_count": 1,
   "metadata": {
    "variables": {
     "{a": "<p><strong>SyntaxError</strong>: unexpected EOF while parsing (<ipython-input-1-d09fa0f61c18>, line 1)</p>\n",
     "{b": "<p><strong>SyntaxError</strong>: unexpected EOF while parsing (<ipython-input-1-dc084216b19f>, line 1)</p>\n"
    }
   },
   "outputs": [],
   "source": [
    "a = 1\n",
    "b = 2"
   ]
  },
  {
   "cell_type": "code",
   "execution_count": 2,
   "metadata": {
    "code_folding": [],
    "variables": {
     "{a": "<p><strong>SyntaxError</strong>: unexpected EOF while parsing (<ipython-input-2-d09fa0f61c18>, line 1)</p>\n",
     "{b": "<p><strong>SyntaxError</strong>: unexpected EOF while parsing (<ipython-input-2-dc084216b19f>, line 1)</p>\n"
    }
   },
   "outputs": [
    {
     "ename": "SyntaxError",
     "evalue": "invalid syntax (<ipython-input-2-e3e2776a5c40>, line 1)",
     "output_type": "error",
     "traceback": [
      "\u001b[0;36m  File \u001b[0;32m\"<ipython-input-2-e3e2776a5c40>\"\u001b[0;36m, line \u001b[0;32m1\u001b[0m\n\u001b[0;31m    $\\frac{exec(a)}{(exec(b)}$\u001b[0m\n\u001b[0m    ^\u001b[0m\n\u001b[0;31mSyntaxError\u001b[0m\u001b[0;31m:\u001b[0m invalid syntax\n"
     ]
    }
   ],
   "source": [
    "$\\frac{exec(a)}{(exec(b)}$"
   ]
  },
  {
   "cell_type": "code",
   "execution_count": null,
   "metadata": {},
   "outputs": [],
   "source": [
    "from IPython.display import display, Math, Latex\n"
   ]
  }
 ],
 "metadata": {
  "kernelspec": {
   "display_name": "Python 3",
   "language": "python",
   "name": "python3"
  },
  "language_info": {
   "codemirror_mode": {
    "name": "ipython",
    "version": 3
   },
   "file_extension": ".py",
   "mimetype": "text/x-python",
   "name": "python",
   "nbconvert_exporter": "python",
   "pygments_lexer": "ipython3",
   "version": "3.7.0"
  },
  "latex_envs": {
   "LaTeX_envs_menu_present": true,
   "autoclose": false,
   "autocomplete": true,
   "bibliofile": "biblio.bib",
   "cite_by": "apalike",
   "current_citInitial": 1,
   "eqLabelWithNumbers": true,
   "eqNumInitial": 1,
   "hotkeys": {
    "equation": "Ctrl-E",
    "itemize": "Ctrl-I"
   },
   "labels_anchors": true,
   "latex_user_defs": false,
   "report_style_numbering": false,
   "user_envs_cfg": false
  }
 },
 "nbformat": 4,
 "nbformat_minor": 2
}
