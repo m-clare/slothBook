{
 "cells": [
  {
   "cell_type": "code",
   "execution_count": 1,
   "metadata": {
    "code_folding": [],
    "hide_input": false,
    "scrolled": false,
    "tags": [
     "imports"
    ]
   },
   "outputs": [],
   "source": [
    "import json\n",
    "import numpy as np\n",
    "import pandas as pd\n",
    "from pylatex import Document, Section, Subsection, Math, NoEscape, Package\n",
    "from IPython.display import display, Math, Latex\n",
    "\n",
    "fp = './beam01.json'\n",
    "\n",
    "with open(fp) as f:\n",
    "    beam_data = json.load(f)"
   ]
  },
  {
   "cell_type": "code",
   "execution_count": 2,
   "metadata": {
    "scrolled": true,
    "tags": [
     "parameters"
    ]
   },
   "outputs": [],
   "source": [
    "# Loads\n",
    "M_u = beam_data['M_u'] #kip-ft\n",
    "\n",
    "# Material Properties\n",
    "f_c = beam_data['f_c']\n",
    "f_y = beam_data['f_y']\n",
    "\n",
    "# Section Properties\n",
    "b   = beam_data['b']\n",
    "h   = beam_data['h']\n",
    "d   = beam_data['d']"
   ]
  },
  {
   "cell_type": "markdown",
   "metadata": {},
   "source": [
    "# I. Design Parameters"
   ]
  },
  {
   "cell_type": "markdown",
   "metadata": {},
   "source": [
    "## 1. Loads"
   ]
  },
  {
   "cell_type": "code",
   "execution_count": 3,
   "metadata": {
    "hide_input": false,
    "scrolled": true
   },
   "outputs": [
    {
     "data": {
      "text/latex": [
       "\\begin{equation*} M_u = 500.0 \\text{ k-ft}\\end{equation*}"
      ],
      "text/plain": [
       "<IPython.core.display.Latex object>"
      ]
     },
     "metadata": {},
     "output_type": "display_data"
    }
   ],
   "source": [
    "# Initialize document\n",
    "doc = Document()\n",
    "doc.packages.append(Package('amsmath'));\n",
    "doc.packages.append(Package('booktabs'))\n",
    "section = Section('Parameters')\n",
    "subsection = Subsection('Design Load')\n",
    "load_s = '\\\\begin{equation*} M_u = %s \\\\text{ k-ft}\\\\end{equation*}'\n",
    "test = str.replace(load_s, \"\\\\\\\\\", \"\\\\\")\n",
    "# add to display\n",
    "display(Latex(load_s % (M_u)))\n",
    "# add to report\n",
    "subsection.append(NoEscape(test % (M_u)))\n",
    "section.append(subsection)"
   ]
  },
  {
   "cell_type": "markdown",
   "metadata": {},
   "source": [
    "## 2. Material Properties"
   ]
  },
  {
   "cell_type": "code",
   "execution_count": 4,
   "metadata": {},
   "outputs": [],
   "source": [
    "subsection = Subsection('Material Properties')\n",
    "\n",
    "# Concrete\n",
    "epsilon_c = 0.003 # strain limit\n",
    "# Set beta (based on concrete strength, f_c)\n",
    "if f_c <= 4:\n",
    "    beta = 0.85\n",
    "else:\n",
    "    beta = round(max(0.65, 0.85 - 0.05 * (f_c / 4.)), 2)\n",
    "\n",
    "concrete_array = np.array([f_c, epsilon_c, beta])\n",
    "concrete_df = pd.DataFrame(columns=['$f\\'_c$', r'$\\epsilon_c$', r'$\\beta$'])\n",
    "concrete_df.loc[0] =[f_c, epsilon_c, beta]\n",
    "\n",
    "cdf = concrete_df.to_latex(escape=False, index=False)\n",
    "# Steel\n",
    "E_s = 29000. # ksi\n",
    "epsilon_y = 0.005\n",
    "\n",
    "# Add properties to report as tables\n",
    "\n",
    "subsection.append(NoEscape(cdf))\n",
    "section.append(subsection)\n",
    "doc.append(section)\n"
   ]
  },
  {
   "cell_type": "markdown",
   "metadata": {
    "hide_input": false
   },
   "source": [
    "## 3. Section Properties"
   ]
  },
  {
   "cell_type": "markdown",
   "metadata": {
    "scrolled": true
   },
   "source": []
  },
  {
   "cell_type": "markdown",
   "metadata": {},
   "source": []
  },
  {
   "cell_type": "code",
   "execution_count": 5,
   "metadata": {},
   "outputs": [],
   "source": [
    "doc.generate_pdf('beam_ex', clean_tex=True)"
   ]
  },
  {
   "cell_type": "code",
   "execution_count": null,
   "metadata": {},
   "outputs": [],
   "source": []
  },
  {
   "cell_type": "code",
   "execution_count": null,
   "metadata": {},
   "outputs": [],
   "source": []
  }
 ],
 "metadata": {
  "kernelspec": {
   "display_name": "Python 3",
   "language": "python",
   "name": "python3"
  },
  "language_info": {
   "codemirror_mode": {
    "name": "ipython",
    "version": 3
   },
   "file_extension": ".py",
   "mimetype": "text/x-python",
   "name": "python",
   "nbconvert_exporter": "python",
   "pygments_lexer": "ipython3",
   "version": "3.7.0"
  },
  "latex_envs": {
   "LaTeX_envs_menu_present": true,
   "autoclose": false,
   "autocomplete": true,
   "bibliofile": "biblio.bib",
   "cite_by": "apalike",
   "current_citInitial": 1,
   "eqLabelWithNumbers": true,
   "eqNumInitial": 1,
   "hotkeys": {
    "equation": "Ctrl-E",
    "itemize": "Ctrl-I"
   },
   "labels_anchors": false,
   "latex_user_defs": false,
   "report_style_numbering": false,
   "user_envs_cfg": false
  }
 },
 "nbformat": 4,
 "nbformat_minor": 2
}
