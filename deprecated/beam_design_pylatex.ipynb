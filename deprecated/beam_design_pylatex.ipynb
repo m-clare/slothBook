{
 "cells": [
  {
   "cell_type": "code",
   "execution_count": 19,
   "metadata": {},
   "outputs": [],
   "source": [
    "#!/usr/bin/python\n",
    "\"\"\"\n",
    "This example shows numpy functionality.\n",
    "\n",
    "..  :copyright: (c) 2014 by Jelte Fennema.\n",
    "    :license: MIT, see License for more details.\n",
    "\"\"\"\n",
    "\n",
    "# begin-doc-include\n",
    "import numpy as np\n",
    "\n",
    "from pylatex import Document, Section, Subsection, Math, Matrix, VectorName\n",
    "\n",
    "\n",
    "a = np.array([[100, 10, 20]]).T\n",
    "b = 1\n",
    "c = 2\n",
    "\n",
    "doc = Document()\n",
    "section = Section('Numpy tests')\n",
    "subsection = Subsection('Array')\n",
    "\n",
    "vec = Matrix(a)\n",
    "vec_name = VectorName('a')\n",
    "math = Math(data=[vec_name, '=', vec])\n",
    "\n",
    "subsection.append(math)\n",
    "section.append(subsection)\n",
    "\n",
    "subsection = Subsection('Matrix')\n",
    "M = np.matrix([[2, 3, 4],\n",
    "               [0, 0, 1],\n",
    "               [0, 0, 2]])\n",
    "matrix = Matrix(M, mtype='b')\n",
    "math = Math(data=['M=', matrix])\n",
    "\n",
    "subsection.append(math)\n",
    "section.append(subsection)\n",
    "\n",
    "subsection = Subsection('Product')\n",
    "\n",
    "math = Math(data=['M', vec_name, '=', Matrix(M * a)])\n",
    "subsection.append(math)\n",
    "\n",
    "section.append(subsection)\n",
    "\n",
    "math = Math(data=[r'\\frac{%s}{%s}'%(b, c)], escape=False)\n",
    "M_u = 500.0\n",
    "math2 = Math(data=[r'\\begin{equation*} M_u = %s\\text{ k-ft}\\end{equation*}'% (M_u)])\n",
    "subsection = Subsection('Fraction')\n",
    "subsection.append(NoEscape(r'\\begin{equation*} M_u = %s\\text{ k-ft}\\end{equation*}'% (M_u)))\n",
    "# subsection.append(math2)\n",
    "\n",
    "section.append(subsection)\n",
    "\n",
    "doc.append(section)\n",
    "doc.generate_pdf('numpy_ex', clean_tex=False)\n"
   ]
  },
  {
   "cell_type": "code",
   "execution_count": null,
   "metadata": {},
   "outputs": [],
   "source": []
  }
 ],
 "metadata": {
  "kernelspec": {
   "display_name": "Python 3",
   "language": "python",
   "name": "python3"
  },
  "language_info": {
   "codemirror_mode": {
    "name": "ipython",
    "version": 3
   },
   "file_extension": ".py",
   "mimetype": "text/x-python",
   "name": "python",
   "nbconvert_exporter": "python",
   "pygments_lexer": "ipython3",
   "version": "3.7.0"
  },
  "latex_envs": {
   "LaTeX_envs_menu_present": true,
   "autoclose": false,
   "autocomplete": true,
   "bibliofile": "biblio.bib",
   "cite_by": "apalike",
   "current_citInitial": 1,
   "eqLabelWithNumbers": true,
   "eqNumInitial": 1,
   "hotkeys": {
    "equation": "Ctrl-E",
    "itemize": "Ctrl-I"
   },
   "labels_anchors": false,
   "latex_user_defs": false,
   "report_style_numbering": false,
   "user_envs_cfg": false
  }
 },
 "nbformat": 4,
 "nbformat_minor": 2
}
