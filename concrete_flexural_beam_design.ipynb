{
 "cells": [
  {
   "cell_type": "code",
   "execution_count": 3,
   "metadata": {
    "code_folding": [],
    "hide_input": false,
    "papermill": {
     "duration": 0.303971,
     "end_time": "2019-02-01T02:28:40.491096",
     "exception": false,
     "start_time": "2019-02-01T02:28:40.187125",
     "status": "completed"
    },
    "scrolled": false,
    "tags": [
     "imports"
    ]
   },
   "outputs": [],
   "source": [
    "import json\n",
    "import numpy as np\n",
    "import pandas as pd\n",
    "from matplotlib import pyplot as plt\n",
    "import seaborn\n",
    "import matplotlib.patches as patches\n",
    "from pylatex import Document, Section, Subsection, Math, NoEscape, Package, NewPage\n",
    "from IPython.display import display, Math, Latex, HTML, Markdown\n"
   ]
  },
  {
   "cell_type": "code",
   "execution_count": 4,
   "metadata": {
    "code_folding": [],
    "papermill": {
     "duration": 0.017616,
     "end_time": "2019-02-01T02:28:40.546490",
     "exception": false,
     "start_time": "2019-02-01T02:28:40.528874",
     "status": "completed"
    },
    "tags": [
     "injected-parameters"
    ]
   },
   "outputs": [],
   "source": [
    "# Parameters\n",
    "M_u = 100.0 # k-ft\n",
    "\n",
    "# Material Properties\n",
    "f_c = 6.0   # ksi\n",
    "f_y = 60.0  # ksi\n",
    "\n",
    "# Section Geometry\n",
    "b     = 12.0\n",
    "h     = 18.0\n",
    "d     = h - 2.0\n",
    "d_p   = 2.0\n",
    "rebar = 8\n",
    "\n",
    "# render toggles\n",
    "render_nb  = True\n",
    "create_pdf = False"
   ]
  },
  {
   "cell_type": "markdown",
   "metadata": {
    "papermill": {
     "duration": 0.007649,
     "end_time": "2019-02-01T02:28:40.562140",
     "exception": false,
     "start_time": "2019-02-01T02:28:40.554491",
     "status": "completed"
    },
    "tags": []
   },
   "source": [
    "# I. Design Parameters"
   ]
  },
  {
   "cell_type": "markdown",
   "metadata": {
    "papermill": {
     "duration": 0.0075,
     "end_time": "2019-02-01T02:28:40.577556",
     "exception": false,
     "start_time": "2019-02-01T02:28:40.570056",
     "status": "completed"
    },
    "tags": []
   },
   "source": [
    "## 1. Loads"
   ]
  },
  {
   "cell_type": "code",
   "execution_count": 5,
   "metadata": {
    "hide_input": true,
    "papermill": {
     "duration": 0.055192,
     "end_time": "2019-02-01T02:28:40.639954",
     "exception": false,
     "start_time": "2019-02-01T02:28:40.584762",
     "status": "completed"
    },
    "scrolled": true,
    "tags": []
   },
   "outputs": [
    {
     "data": {
      "text/latex": [
       "\\begin{align*} M_u = 100.0 \\text{ k-ft}\\end{align*}"
      ],
      "text/plain": [
       "<IPython.core.display.Latex object>"
      ]
     },
     "metadata": {},
     "output_type": "display_data"
    }
   ],
   "source": [
    "load_s = '\\\\begin{align*} M_u = %s \\\\text{ k-ft}\\\\end{align*}'\n",
    "# add to display\n",
    "if render_nb == True:\n",
    "    display(Latex(load_s % (M_u)))"
   ]
  },
  {
   "cell_type": "markdown",
   "metadata": {
    "papermill": {
     "duration": 0.013994,
     "end_time": "2019-02-01T02:28:40.662962",
     "exception": false,
     "start_time": "2019-02-01T02:28:40.648968",
     "status": "completed"
    },
    "tags": []
   },
   "source": [
    "## 2. Properties"
   ]
  },
  {
   "cell_type": "code",
   "execution_count": 6,
   "metadata": {
    "hide_input": true,
    "papermill": {
     "duration": 0.030174,
     "end_time": "2019-02-01T02:28:40.701823",
     "exception": false,
     "start_time": "2019-02-01T02:28:40.671649",
     "status": "completed"
    },
    "tags": []
   },
   "outputs": [],
   "source": [
    "# Concrete\n",
    "epsilon_c = 0.003 # strain limit\n",
    "# Set beta (based on concrete strength, f_c)\n",
    "if f_c <= 4:\n",
    "    beta = 0.85\n",
    "else:\n",
    "    beta = round(max(0.65, 0.85 - 0.05 * (f_c - 4.)), 2)\n",
    "\n",
    "concrete_array = np.array([f_c, epsilon_c, beta])\n",
    "concrete_df = pd.DataFrame(columns=['$f\\'_c\\\\text{ (ksi)}$', '$\\\\epsilon_c$', '$\\\\beta$'])\n",
    "concrete_df.loc[0] =[f_c, epsilon_c, beta]\n",
    "\n",
    "# Steel\n",
    "f_y = 60 # ksi\n",
    "E_s = 29000. # ksi\n",
    "epsilon_y = round(f_y / E_s, 3)\n",
    "\n",
    "steel_array = np.array([f_y, epsilon_c, E_s])\n",
    "steel_df = pd.DataFrame(columns=['$f_y\\\\text{ (ksi)}$', '$\\epsilon_y$', '$E_s\\\\text{ (ksi)}$'])\n",
    "steel_df.loc[0] =[f_y, epsilon_y, E_s]\n",
    "\n",
    "# Add properties to report as tables\n",
    "d1 = dict(selector=\"th\", props=[('text-align', 'center'), ('font-size', '11pt')])\n",
    "d2 = dict(selector=\"td\", props=[(\"text-align\", \"center\"), ('font-size', '11pt')])\n",
    "d3 = dict(selector=\"th:first-child\", props=[('display', 'none')])"
   ]
  },
  {
   "cell_type": "markdown",
   "metadata": {},
   "source": [
    "### Concrete Properties"
   ]
  },
  {
   "cell_type": "code",
   "execution_count": 7,
   "metadata": {
    "code_folding": [],
    "hide_input": true
   },
   "outputs": [
    {
     "data": {
      "text/html": [
       "<style  type=\"text/css\" >\n",
       "    #T_be50a5e8_36b9_11e9_9785_8c85901a8910 th {\n",
       "          text-align: center;\n",
       "          font-size: 11pt;\n",
       "    }    #T_be50a5e8_36b9_11e9_9785_8c85901a8910 td {\n",
       "          text-align: center;\n",
       "          font-size: 11pt;\n",
       "    }    #T_be50a5e8_36b9_11e9_9785_8c85901a8910 th:first-child {\n",
       "          display: none;\n",
       "    }    #T_be50a5e8_36b9_11e9_9785_8c85901a8910row0_col0 {\n",
       "            width:  5em;\n",
       "            text-align:  center;\n",
       "        }    #T_be50a5e8_36b9_11e9_9785_8c85901a8910row0_col1 {\n",
       "            width:  5em;\n",
       "            text-align:  center;\n",
       "        }    #T_be50a5e8_36b9_11e9_9785_8c85901a8910row0_col2 {\n",
       "            width:  5em;\n",
       "            text-align:  center;\n",
       "        }</style>  \n",
       "<table id=\"T_be50a5e8_36b9_11e9_9785_8c85901a8910\" > \n",
       "<thead>    <tr> \n",
       "        <th class=\"blank level0\" ></th> \n",
       "        <th class=\"col_heading level0 col0\" >$f'_c\\text{ (ksi)}$</th> \n",
       "        <th class=\"col_heading level0 col1\" >$\\epsilon_c$</th> \n",
       "        <th class=\"col_heading level0 col2\" >$\\beta$</th> \n",
       "    </tr></thead> \n",
       "<tbody>    <tr> \n",
       "        <th id=\"T_be50a5e8_36b9_11e9_9785_8c85901a8910level0_row0\" class=\"row_heading level0 row0\" >0</th> \n",
       "        <td id=\"T_be50a5e8_36b9_11e9_9785_8c85901a8910row0_col0\" class=\"data row0 col0\" >6</td> \n",
       "        <td id=\"T_be50a5e8_36b9_11e9_9785_8c85901a8910row0_col1\" class=\"data row0 col1\" >0.003</td> \n",
       "        <td id=\"T_be50a5e8_36b9_11e9_9785_8c85901a8910row0_col2\" class=\"data row0 col2\" >0.75</td> \n",
       "    </tr></tbody> \n",
       "</table> "
      ],
      "text/plain": [
       "<pandas.io.formats.style.Styler at 0x1037dcc88>"
      ]
     },
     "execution_count": 7,
     "metadata": {},
     "output_type": "execute_result"
    }
   ],
   "source": [
    "concrete_df.style.set_properties(**{'width':'5em', 'text-align':'center'}).set_table_styles([d1,d2, d3])"
   ]
  },
  {
   "cell_type": "markdown",
   "metadata": {},
   "source": [
    "### Steel Properties"
   ]
  },
  {
   "cell_type": "code",
   "execution_count": 8,
   "metadata": {
    "hide_input": true,
    "scrolled": false
   },
   "outputs": [
    {
     "data": {
      "text/html": [
       "<style  type=\"text/css\" >\n",
       "    #T_be52916e_36b9_11e9_9785_8c85901a8910 th {\n",
       "          text-align: center;\n",
       "          font-size: 11pt;\n",
       "    }    #T_be52916e_36b9_11e9_9785_8c85901a8910 td {\n",
       "          text-align: center;\n",
       "          font-size: 11pt;\n",
       "    }    #T_be52916e_36b9_11e9_9785_8c85901a8910 th:first-child {\n",
       "          display: none;\n",
       "    }    #T_be52916e_36b9_11e9_9785_8c85901a8910row0_col0 {\n",
       "            width:  5em;\n",
       "            text-align:  center;\n",
       "        }    #T_be52916e_36b9_11e9_9785_8c85901a8910row0_col1 {\n",
       "            width:  5em;\n",
       "            text-align:  center;\n",
       "        }    #T_be52916e_36b9_11e9_9785_8c85901a8910row0_col2 {\n",
       "            width:  5em;\n",
       "            text-align:  center;\n",
       "        }</style>  \n",
       "<table id=\"T_be52916e_36b9_11e9_9785_8c85901a8910\" > \n",
       "<thead>    <tr> \n",
       "        <th class=\"blank level0\" ></th> \n",
       "        <th class=\"col_heading level0 col0\" >$f_y\\text{ (ksi)}$</th> \n",
       "        <th class=\"col_heading level0 col1\" >$\\epsilon_y$</th> \n",
       "        <th class=\"col_heading level0 col2\" >$E_s\\text{ (ksi)}$</th> \n",
       "    </tr></thead> \n",
       "<tbody>    <tr> \n",
       "        <th id=\"T_be52916e_36b9_11e9_9785_8c85901a8910level0_row0\" class=\"row_heading level0 row0\" >0</th> \n",
       "        <td id=\"T_be52916e_36b9_11e9_9785_8c85901a8910row0_col0\" class=\"data row0 col0\" >60</td> \n",
       "        <td id=\"T_be52916e_36b9_11e9_9785_8c85901a8910row0_col1\" class=\"data row0 col1\" >0.002</td> \n",
       "        <td id=\"T_be52916e_36b9_11e9_9785_8c85901a8910row0_col2\" class=\"data row0 col2\" >29000</td> \n",
       "    </tr></tbody> \n",
       "</table> "
      ],
      "text/plain": [
       "<pandas.io.formats.style.Styler at 0x11c9080f0>"
      ]
     },
     "execution_count": 8,
     "metadata": {},
     "output_type": "execute_result"
    }
   ],
   "source": [
    "steel_df.style.set_properties(**{'width':'5em', 'text-align':'center'}).set_table_styles([d1,d2, d3])"
   ]
  },
  {
   "cell_type": "markdown",
   "metadata": {
    "hide_input": true,
    "papermill": {
     "duration": 0.012906,
     "end_time": "2019-02-01T02:28:40.723674",
     "exception": false,
     "start_time": "2019-02-01T02:28:40.710768",
     "status": "completed"
    },
    "tags": []
   },
   "source": [
    "### Section Properties"
   ]
  },
  {
   "cell_type": "code",
   "execution_count": 9,
   "metadata": {
    "hide_input": true
   },
   "outputs": [
    {
     "data": {
      "text/html": [
       "<style  type=\"text/css\" >\n",
       "    #T_be557fa0_36b9_11e9_9785_8c85901a8910 th {\n",
       "          text-align: center;\n",
       "          font-size: 11pt;\n",
       "    }    #T_be557fa0_36b9_11e9_9785_8c85901a8910 td {\n",
       "          text-align: center;\n",
       "          font-size: 11pt;\n",
       "    }    #T_be557fa0_36b9_11e9_9785_8c85901a8910 th:first-child {\n",
       "          display: none;\n",
       "    }    #T_be557fa0_36b9_11e9_9785_8c85901a8910row0_col0 {\n",
       "            width:  5em;\n",
       "            text-align:  center;\n",
       "        }    #T_be557fa0_36b9_11e9_9785_8c85901a8910row0_col1 {\n",
       "            width:  5em;\n",
       "            text-align:  center;\n",
       "        }    #T_be557fa0_36b9_11e9_9785_8c85901a8910row0_col2 {\n",
       "            width:  5em;\n",
       "            text-align:  center;\n",
       "        }</style>  \n",
       "<table id=\"T_be557fa0_36b9_11e9_9785_8c85901a8910\" > \n",
       "<thead>    <tr> \n",
       "        <th class=\"blank level0\" ></th> \n",
       "        <th class=\"col_heading level0 col0\" >b (in)</th> \n",
       "        <th class=\"col_heading level0 col1\" >h (in)</th> \n",
       "        <th class=\"col_heading level0 col2\" >d (in)</th> \n",
       "    </tr></thead> \n",
       "<tbody>    <tr> \n",
       "        <th id=\"T_be557fa0_36b9_11e9_9785_8c85901a8910level0_row0\" class=\"row_heading level0 row0\" >0</th> \n",
       "        <td id=\"T_be557fa0_36b9_11e9_9785_8c85901a8910row0_col0\" class=\"data row0 col0\" >12</td> \n",
       "        <td id=\"T_be557fa0_36b9_11e9_9785_8c85901a8910row0_col1\" class=\"data row0 col1\" >18</td> \n",
       "        <td id=\"T_be557fa0_36b9_11e9_9785_8c85901a8910row0_col2\" class=\"data row0 col2\" >16</td> \n",
       "    </tr></tbody> \n",
       "</table> "
      ],
      "text/plain": [
       "<pandas.io.formats.style.Styler at 0x11c908710>"
      ]
     },
     "execution_count": 9,
     "metadata": {},
     "output_type": "execute_result"
    }
   ],
   "source": [
    "prop_array = np.array([b, h, d])\n",
    "prop_df = pd.DataFrame(columns=['b (in)', 'h (in)', 'd (in)'])\n",
    "prop_df.loc[0] = prop_array\n",
    "\n",
    "prop_df.style.set_properties(**{'width':'5em', 'text-align':'center'}).set_table_styles([d1,d2, d3])"
   ]
  },
  {
   "cell_type": "markdown",
   "metadata": {
    "papermill": {
     "duration": 0.016442,
     "end_time": "2019-02-01T02:28:42.293396",
     "exception": false,
     "start_time": "2019-02-01T02:28:42.276954",
     "status": "completed"
    },
    "tags": []
   },
   "source": [
    "## 4. Calculate Balanced Reinforcement Ratio $\\rho_b$ and $x_{lim}$"
   ]
  },
  {
   "cell_type": "code",
   "execution_count": 10,
   "metadata": {
    "hide_input": true
   },
   "outputs": [],
   "source": [
    "xi_b = epsilon_c / (epsilon_c + epsilon_y)\n",
    "rho_b = 0.85 * beta * (f_c / f_y) * xi_b\n",
    "\n",
    "xi_lim = epsilon_c / (epsilon_c + 0.005)\n",
    "rho_lim = 0.85 * beta * (f_c / f_y) * xi_lim\n",
    "x_lim = xi_lim * d"
   ]
  },
  {
   "cell_type": "markdown",
   "metadata": {},
   "source": [
    "### Balanced Reinforcement Ratio"
   ]
  },
  {
   "cell_type": "code",
   "execution_count": 11,
   "metadata": {
    "hide_input": true
   },
   "outputs": [
    {
     "data": {
      "text/latex": [
       "\\begin{align*}\\xi_{b} &= \\frac{\\epsilon_c}{\\epsilon_c + \\epsilon_y} =\\frac{0.003}{0.003 + 0.002} = 0.6 \\\\\\\\ \\rho_{b} &= 0.85 \\cdot \\beta \\frac{f'_c}{f_y} \\cdot \\xi_b= 0.85 \\cdot 0.75 \\frac{6.0 \\text{ ksi}}{60 \\text{ ksi}} \\cdot 0.6 = 0.03825 \\end{align*}"
      ],
      "text/plain": [
       "<IPython.core.display.Latex object>"
      ]
     },
     "metadata": {},
     "output_type": "display_data"
    }
   ],
   "source": [
    "pb_s = (r'\\begin{align*}' +\n",
    "        r'\\xi_{b} &= \\frac{\\epsilon_c}{\\epsilon_c + \\epsilon_y} =' +\n",
    "        r'\\frac{%s}{%s + %s} = %s \\\\\\\\ '+\n",
    "        '\\\\rho_{b} &= 0.85 \\\\cdot \\\\beta \\\\frac{f\\'_c}{f_y} \\\\cdot \\\\xi_b'+\n",
    "        r'= 0.85 \\cdot %s \\frac{%s \\text{ ksi}}{%s \\text{ ksi}} \\cdot %s = %s '+\n",
    "        r'\\end{align*}')\n",
    "pb_s_i = (epsilon_c, epsilon_c, epsilon_y, xi_b, beta, f_c, f_y, xi_b, rho_b)\n",
    "if render_nb == True:\n",
    "    display(Latex(pb_s % pb_s_i))\n"
   ]
  },
  {
   "cell_type": "markdown",
   "metadata": {},
   "source": [
    "### Tension Controlled Section"
   ]
  },
  {
   "cell_type": "code",
   "execution_count": 12,
   "metadata": {
    "hide_input": true
   },
   "outputs": [
    {
     "data": {
      "text/latex": [
       "\\begin{align*} \\xi_{lim} &= \\frac{\\epsilon_c}{\\epsilon_c + 0.005} = \\frac{0.003}{0.003 + 0.005} = 0.375 \\\\\\\\ \\rho_{lim} &= 0.85 \\cdot \\beta \\frac{f'_c}{f_y} \\cdot \\xi_{lim} \\\\ \\rho_{lim} &= 0.85 \\cdot 0.75 \\frac{6.0 \\text{ ksi}}{60 \\text{ ksi}} \\cdot 0.375 = 0.02390625 \\\\\\\\ x_{lim} &= \\xi_{lim} \\cdot d = 0.375 \\cdot 16.0 \\text{ in} = 6.0 \\text{ in}\\end{align*}"
      ],
      "text/plain": [
       "<IPython.core.display.Latex object>"
      ]
     },
     "metadata": {},
     "output_type": "display_data"
    }
   ],
   "source": [
    "pb_lim_s = (r'\\begin{align*} '+\n",
    "            r'\\xi_{lim} &= \\frac{\\epsilon_c}{\\epsilon_c + 0.005} = '+\n",
    "            r'\\frac{%s}{%s + 0.005} = %s \\\\\\\\ ' +\n",
    "            '\\\\rho_{lim} &= 0.85 \\\\cdot \\\\beta \\\\frac{f\\'_c}{f_y} \\\\cdot \\\\xi_{lim} \\\\\\\\ '+\n",
    "            r'\\rho_{lim} &= 0.85 \\cdot %s \\frac{%s \\text{ ksi}}{%s \\text{ ksi}} \\cdot %s = %s \\\\\\\\ '+\n",
    "            r'x_{lim} &= \\xi_{lim} \\cdot d = %s \\cdot %s \\text{ in} = %s \\text{ in}'+\n",
    "            r'\\end{align*}')\n",
    "pb_lim_i = (epsilon_c, epsilon_c, xi_lim, beta, f_c, f_y, xi_lim, rho_lim, xi_lim, d, x_lim)\n",
    "if render_nb == True:\n",
    "    display(Latex(pb_lim_s % pb_lim_i))\n"
   ]
  },
  {
   "cell_type": "markdown",
   "metadata": {},
   "source": [
    "## 5. Determine Required Reinforcement"
   ]
  },
  {
   "cell_type": "code",
   "execution_count": 13,
   "metadata": {
    "hide_input": true
   },
   "outputs": [],
   "source": [
    "phi = 0.9 \n",
    "\n",
    "M_u_lim = phi * 0.85* f_c * beta * b * x_lim * (d - beta * x_lim / 2.) * 1 / 12.\n",
    "if M_u_lim >= M_u:\n",
    "    x_na  = d / beta * (1 - (1 - M_u * 12. / (0.425 * phi * f_c * b * d ** 2.)) ** 0.5)\n",
    "else:\n",
    "    x_na  = x_lim\n",
    "\n",
    "epsilon_s   = (d - x_na) * epsilon_c / x_na\n",
    "epsilon_s_p = (d_p - x_na)* epsilon_c / x_na\n",
    "\n",
    "# determine reinforcement stresses\n",
    "if epsilon_s > epsilon_y:\n",
    "    sigma_s = f_y\n",
    "else:\n",
    "    epsilon_s * E_s\n",
    "\n",
    "if epsilon_s_p > epsilon_y:\n",
    "    sigma_s_p = f_y\n",
    "elif epsilon_s_p > 0:\n",
    "    sigma_s_p = epsilon_s_p * E_s\n",
    "elif epsilon_s_p < -epsilon_y:\n",
    "    sigma_s_p = -f_y\n",
    "else:\n",
    "    sigma_s_p = epsilon_s_p * E_s\n",
    "    \n",
    "# determine reinforcement areas\n",
    "if M_u_lim >= M_u:\n",
    "    A_s_p = 0.0\n",
    "else:\n",
    "    A_s_p = (phi * 0.85 * f_c * beta * x_na * (d - beta * x_na / 2) * b - M_u * 12) \\\n",
    "            / (phi * sigma_s_p * (d - d_p))\n",
    "A_s   = (0.85 * f_c * beta * x_na * b - A_s_p * sigma_s_p) / sigma_s    "
   ]
  },
  {
   "cell_type": "markdown",
   "metadata": {},
   "source": [
    "#### Neutral Axis Location"
   ]
  },
  {
   "cell_type": "code",
   "execution_count": 14,
   "metadata": {
    "hide_input": true
   },
   "outputs": [
    {
     "data": {
      "text/latex": [
       "\\begin{align*}x_{na} &=\\frac{d}{\\beta} \\cdot\\left(1 - \\left(1 - \\frac{M_u}{(0.5 \\cdot 0.85 \\phi f'_c b d^2)}\\right)^2\\right) \\\\x_{na} &=\\frac{16.0 \\text{ in}}{0.75} \\cdot\\left(1 - \\left(1 - \\frac{1200.0 \\text{ k-in}}{(0.5 \\cdot 0.85 (0.9)(6.0\\text{ ksi})(12.0\\text{ in})(16.0 \\text{ in})^2)}\\right)^2\\right) \\\\\\\\ x_{na} &= 1.9 \\text{ in} \\end{align*}"
      ],
      "text/plain": [
       "<IPython.core.display.Latex object>"
      ]
     },
     "metadata": {},
     "output_type": "display_data"
    }
   ],
   "source": [
    "if M_u_lim >= M_u:\n",
    "    x_na_s = (r'\\begin{align*}'+\n",
    "              r'x_{na} &=\\frac{d}{\\beta} \\cdot\\left(1 - ' +\n",
    "              '\\\\left(1 - \\\\frac{M_u}{(0.5 \\\\cdot 0.85 \\\\phi f\\'_c b d^2)}\\\\right)^2\\\\right) \\\\\\\\' +\n",
    "              r'x_{na} &=\\frac{%s \\text{ in}}{%s} \\cdot\\left(1 - ' +\n",
    "              r'\\left(1 - \\frac{%s \\text{ k-in}}{(0.5 \\cdot 0.85 (%s)(%s\\text{ ksi})(%s\\text{ in})(%s \\text{ in})^2)}\\right)^2\\right) \\\\\\\\ '+\n",
    "              r'x_{na} &= %s \\text{ in} \\end{align*}')\n",
    "    x_na_i = (d, beta, M_u*12, phi, f_c, b, d, round(x_na,2))\n",
    "else:\n",
    "    x_na_s = (r'\\begin{align*} ' +\n",
    "                r'x_{na} &= x_{lim} = %s'\n",
    "                r'\\end{align*}')\n",
    "    x_na_i = round(x_na, 2)\n",
    "    \n",
    "if render_nb == True:\n",
    "    display(Latex(x_na_s % x_na_i))\n",
    "    "
   ]
  },
  {
   "cell_type": "code",
   "execution_count": 15,
   "metadata": {
    "hide_input": true
   },
   "outputs": [
    {
     "data": {
      "image/png": "[encoded data removed]",
      "text/plain": [
       "<Figure size 432x288 with 2 Axes>"
      ]
     },
     "metadata": {},
     "output_type": "display_data"
    }
   ],
   "source": [
    "seaborn.set()\n",
    "fig, (ax1, ax2) = plt.subplots(1, 2, sharey=True)\n",
    "x = [-epsilon_c, epsilon_s]\n",
    "y = [0, -d]\n",
    "s_x = [0, epsilon_s]\n",
    "s_y = [-d, -d]\n",
    "c_x = [-epsilon_c, 0]\n",
    "c_y = [0, 0]\n",
    "ax_x = [0, 0]\n",
    "ax_y = [0, -h]\n",
    "ax1.plot(x, y, color='black', linewidth=3)\n",
    "ax1.plot(s_x,s_y, color='red', linewidth=3)\n",
    "ax1.plot(c_x,c_y, color='blue', linewidth=3)\n",
    "ax1.plot(ax_x, ax_y, color='black', linewidth=3, linestyle='dashed')\n",
    "ax1.set_ylim(-h, 0.1)\n",
    "ax1.set_xlim(-epsilon_s, epsilon_s)\n",
    "ax1.set_yticklabels([str(abs(y)) for y in ax1.get_yticks()])\n",
    "\n",
    "left, width = - b / 2., b\n",
    "bottom, height = -h, h\n",
    "right = left + width\n",
    "top = bottom + height\n",
    "p = patches.Rectangle((left, bottom), width, height, fill=False)\n",
    "ax2.add_patch(p)\n",
    "plt.show()"
   ]
  },
  {
   "cell_type": "markdown",
   "metadata": {},
   "source": [
    "#### Maximum Strength of Single Reinforced Section"
   ]
  },
  {
   "cell_type": "code",
   "execution_count": 16,
   "metadata": {
    "code_folding": [],
    "hide_input": true
   },
   "outputs": [
    {
     "data": {
      "text/latex": [
       "\\begin{align*}M_{u, lim} &= \\phi \\cdot 0.85 \\cdot f'_c \\beta \\text{ b} x_{lim}\\left(\\text{d} - \\beta \\frac{x_{lim}}{2}\\right) \\\\\\\\M_{u, lim} &= 0.9 \\cdot 0.85 \\cdot (6.0 \\text{ksi})(0.75)(12.0 \\text{ in})(6.0 \\text{ in})\\left(16.0 \\text{ in} - 0.75 \\frac{6.0 \\text{ in}}{2}\\right) \\cdot \\frac{12 \\text{ in}}{\\text{ft}}\\\\\\\\M_{u, lim} &= 284.0 \\text { k-ft}\\end{align*}"
      ],
      "text/plain": [
       "<IPython.core.display.Latex object>"
      ]
     },
     "metadata": {},
     "output_type": "display_data"
    }
   ],
   "source": [
    "M_u_s = (r'\\begin{align*}' +\n",
    "        'M_{u, lim} &= \\phi \\cdot 0.85 \\cdot f\\'_c \\\\beta \\\\text{ b} x_{lim}' +\n",
    "        r'\\left(\\text{d} - \\beta \\frac{x_{lim}}{2}\\right) \\\\\\\\' +\n",
    "        r'M_{u, lim} &= %s \\cdot 0.85 \\cdot (%s \\text{ksi})(%s)(%s \\text{ in})' +\n",
    "        r'(%s \\text{ in})\\left(%s \\text{ in} - %s \\frac{%s \\text{ in}}{2}\\right) \\cdot \\frac{12 \\text{ in}}{\\text{ft}}\\\\\\\\' +\n",
    "        r'M_{u, lim} &= %s \\text { k-ft}'\n",
    "        '\\end{align*}')\n",
    "M_u_i = (phi, f_c, beta, b, x_lim, d, beta, x_lim, round(M_u_lim, 0))\n",
    "if render_nb == True:\n",
    "    display(Latex(M_u_s % M_u_i))\n"
   ]
  },
  {
   "cell_type": "markdown",
   "metadata": {
    "hide_input": false
   },
   "source": [
    "#### Required Reinforcement"
   ]
  },
  {
   "cell_type": "code",
   "execution_count": 17,
   "metadata": {
    "hide_input": true,
    "scrolled": true
   },
   "outputs": [
    {
     "data": {
      "text/latex": [
       "$M_u \\leq M_{u,lim}$"
      ],
      "text/plain": [
       "<IPython.core.display.Latex object>"
      ]
     },
     "metadata": {},
     "output_type": "display_data"
    },
    {
     "data": {
      "text/markdown": [
       "Positive Reinforcement Required"
      ],
      "text/plain": [
       "<IPython.core.display.Markdown object>"
      ]
     },
     "metadata": {},
     "output_type": "display_data"
    },
    {
     "data": {
      "text/latex": [
       "\\begin{align*}A_s &= \\frac{0.85 f'_c \\beta x_{na} b}{\\sigma_s} =\\frac{0.85 (6.0 \\text{ ksi}) 0.75 (1.9  \\text{ in})(12.0 \\text{ in})}{(60 \\text{ ksi})} \\\\\\\\A_s &= 1.45 \\text{ in}^2\\end{align*}"
      ],
      "text/plain": [
       "<IPython.core.display.Latex object>"
      ]
     },
     "metadata": {},
     "output_type": "display_data"
    }
   ],
   "source": [
    "if render_nb == True:\n",
    "    if M_u <= M_u_lim:\n",
    "        display(Latex('$M_u \\leq M_{u,lim}$'))\n",
    "        display(Markdown('Positive Reinforcement Required'))\n",
    "        A_s_str = (r'\\begin{align*}' +\n",
    "                   'A_s &= \\\\frac{0.85 f\\'_c \\\\beta x_{na} b}{\\\\sigma_s} =' +\n",
    "                   r'\\frac{0.85 (%s \\text{ ksi}) %s (%s  \\text{ in})(%s \\text{ in})}{(%s \\text{ ksi})} \\\\\\\\' +\n",
    "                   r'A_s &= %s \\text{ in}^2' +\n",
    "                   r'\\end{align*}')\n",
    "        A_s_i = (f_c, beta, round(x_na, 2), b, sigma_s, round(A_s, 2))\n",
    "    else:\n",
    "        display(Latex('$M_u \\geq M_{u,lim}$'))\n",
    "        display(Markdown('Positive and Negative Reinforcement Required'))\n",
    "        A_s_p_str = (r'\\begin{align*}' +\n",
    "                     'A\\'_s &= \\\\frac{\\\\phi 0.85 f_c \\\\beta x_{na} '+\n",
    "                     r'\\left(d - \\beta \\frac{x_{na}}{2}\\right) b - M_u}' +\n",
    "                     '{\\\\phi \\\\sigma\\'_s (d - d\\')} \\\\\\\\' +\n",
    "                     'A\\'_s &= \\\\frac{(%s)(0.85)(%s \\\\text{ ksi})(%s)(%s \\\\text{ in})'+\n",
    "                     r'\\left(%s \\text{ in} - %s \\frac{%s \\text{ in}}{2}\\right)(%s \\text{ in}) - %s \\text{ k-ft}\\frac{12 \\text{ in}}{\\text{ft}}}' +\n",
    "                     r'{%s (%s \\text{ ksi}) (%s \\text{ in} - %s \\text{ in})} = %s \\text{ in}^2' +\n",
    "                     r'\\end{align*}')\n",
    "        A_s_p_i = (phi, f_c, beta, x_na, d, beta, x_na, b, M_u, phi, round(sigma_s_p, 2), d, d_p, round(A_s_p,2))\n",
    "        A_s_str = (r'\\begin{align*}' +\n",
    "                   r'A_s &= \\frac{0.85 f_c \\beta x_{na} b}{\\sigma_s} =' +\n",
    "                   r'\\frac{0.85 (%s \\text{ ksi}) %s (%s  \\text{ in})(%s \\text{ in})}{(%s \\text{ ksi})} \\\\\\\\' +\n",
    "                   r'A_s &= %s \\text{ in}^2' +\n",
    "                   r'\\end{align*}')\n",
    "        A_s_i = (f_c, beta, round(x_na, 2), b, sigma_s, round(A_s, 2))\n",
    "        display(Latex(A_s_p_str % A_s_p_i))\n",
    "display(Latex(A_s_str % A_s_i))\n"
   ]
  },
  {
   "cell_type": "code",
   "execution_count": 18,
   "metadata": {
    "hide_input": false
   },
   "outputs": [
    {
     "data": {
      "text/html": [
       "<style  type=\"text/css\" >\n",
       "    #T_bea38902_36b9_11e9_9785_8c85901a8910 th {\n",
       "          text-align: center;\n",
       "          font-size: 11pt;\n",
       "    }    #T_bea38902_36b9_11e9_9785_8c85901a8910 td {\n",
       "          text-align: center;\n",
       "          font-size: 11pt;\n",
       "    }    #T_bea38902_36b9_11e9_9785_8c85901a8910 th:first-child {\n",
       "          display: none;\n",
       "    }    #T_bea38902_36b9_11e9_9785_8c85901a8910row0_col0 {\n",
       "            text-align:  center;\n",
       "        }    #T_bea38902_36b9_11e9_9785_8c85901a8910row0_col1 {\n",
       "            text-align:  center;\n",
       "        }    #T_bea38902_36b9_11e9_9785_8c85901a8910row0_col2 {\n",
       "            text-align:  center;\n",
       "        }    #T_bea38902_36b9_11e9_9785_8c85901a8910row0_col3 {\n",
       "            text-align:  center;\n",
       "        }    #T_bea38902_36b9_11e9_9785_8c85901a8910row0_col4 {\n",
       "            text-align:  center;\n",
       "        }    #T_bea38902_36b9_11e9_9785_8c85901a8910row0_col5 {\n",
       "            text-align:  center;\n",
       "        }    #T_bea38902_36b9_11e9_9785_8c85901a8910row1_col0 {\n",
       "            text-align:  center;\n",
       "        }    #T_bea38902_36b9_11e9_9785_8c85901a8910row1_col1 {\n",
       "            text-align:  center;\n",
       "        }    #T_bea38902_36b9_11e9_9785_8c85901a8910row1_col2 {\n",
       "            text-align:  center;\n",
       "        }    #T_bea38902_36b9_11e9_9785_8c85901a8910row1_col3 {\n",
       "            text-align:  center;\n",
       "        }    #T_bea38902_36b9_11e9_9785_8c85901a8910row1_col4 {\n",
       "            text-align:  center;\n",
       "        }    #T_bea38902_36b9_11e9_9785_8c85901a8910row1_col5 {\n",
       "            text-align:  center;\n",
       "        }    #T_bea38902_36b9_11e9_9785_8c85901a8910row2_col0 {\n",
       "            text-align:  center;\n",
       "        }    #T_bea38902_36b9_11e9_9785_8c85901a8910row2_col1 {\n",
       "            text-align:  center;\n",
       "        }    #T_bea38902_36b9_11e9_9785_8c85901a8910row2_col2 {\n",
       "            text-align:  center;\n",
       "        }    #T_bea38902_36b9_11e9_9785_8c85901a8910row2_col3 {\n",
       "            text-align:  center;\n",
       "        }    #T_bea38902_36b9_11e9_9785_8c85901a8910row2_col4 {\n",
       "            text-align:  center;\n",
       "        }    #T_bea38902_36b9_11e9_9785_8c85901a8910row2_col5 {\n",
       "            text-align:  center;\n",
       "        }    #T_bea38902_36b9_11e9_9785_8c85901a8910row3_col0 {\n",
       "            text-align:  center;\n",
       "        }    #T_bea38902_36b9_11e9_9785_8c85901a8910row3_col1 {\n",
       "            text-align:  center;\n",
       "        }    #T_bea38902_36b9_11e9_9785_8c85901a8910row3_col2 {\n",
       "            text-align:  center;\n",
       "        }    #T_bea38902_36b9_11e9_9785_8c85901a8910row3_col3 {\n",
       "            text-align:  center;\n",
       "        }    #T_bea38902_36b9_11e9_9785_8c85901a8910row3_col4 {\n",
       "            text-align:  center;\n",
       "        }    #T_bea38902_36b9_11e9_9785_8c85901a8910row3_col5 {\n",
       "            text-align:  center;\n",
       "        }    #T_bea38902_36b9_11e9_9785_8c85901a8910row4_col0 {\n",
       "            text-align:  center;\n",
       "        }    #T_bea38902_36b9_11e9_9785_8c85901a8910row4_col1 {\n",
       "            text-align:  center;\n",
       "        }    #T_bea38902_36b9_11e9_9785_8c85901a8910row4_col2 {\n",
       "            text-align:  center;\n",
       "        }    #T_bea38902_36b9_11e9_9785_8c85901a8910row4_col3 {\n",
       "            text-align:  center;\n",
       "        }    #T_bea38902_36b9_11e9_9785_8c85901a8910row4_col4 {\n",
       "            text-align:  center;\n",
       "        }    #T_bea38902_36b9_11e9_9785_8c85901a8910row4_col5 {\n",
       "            text-align:  center;\n",
       "        }    #T_bea38902_36b9_11e9_9785_8c85901a8910row5_col0 {\n",
       "            text-align:  center;\n",
       "        }    #T_bea38902_36b9_11e9_9785_8c85901a8910row5_col1 {\n",
       "            text-align:  center;\n",
       "        }    #T_bea38902_36b9_11e9_9785_8c85901a8910row5_col2 {\n",
       "            text-align:  center;\n",
       "        }    #T_bea38902_36b9_11e9_9785_8c85901a8910row5_col3 {\n",
       "            text-align:  center;\n",
       "        }    #T_bea38902_36b9_11e9_9785_8c85901a8910row5_col4 {\n",
       "            text-align:  center;\n",
       "        }    #T_bea38902_36b9_11e9_9785_8c85901a8910row5_col5 {\n",
       "            text-align:  center;\n",
       "        }    #T_bea38902_36b9_11e9_9785_8c85901a8910row6_col0 {\n",
       "            text-align:  center;\n",
       "        }    #T_bea38902_36b9_11e9_9785_8c85901a8910row6_col1 {\n",
       "            text-align:  center;\n",
       "        }    #T_bea38902_36b9_11e9_9785_8c85901a8910row6_col2 {\n",
       "            text-align:  center;\n",
       "        }    #T_bea38902_36b9_11e9_9785_8c85901a8910row6_col3 {\n",
       "            text-align:  center;\n",
       "        }    #T_bea38902_36b9_11e9_9785_8c85901a8910row6_col4 {\n",
       "            text-align:  center;\n",
       "        }    #T_bea38902_36b9_11e9_9785_8c85901a8910row6_col5 {\n",
       "            text-align:  center;\n",
       "        }    #T_bea38902_36b9_11e9_9785_8c85901a8910row7_col0 {\n",
       "            text-align:  center;\n",
       "        }    #T_bea38902_36b9_11e9_9785_8c85901a8910row7_col1 {\n",
       "            text-align:  center;\n",
       "        }    #T_bea38902_36b9_11e9_9785_8c85901a8910row7_col2 {\n",
       "            text-align:  center;\n",
       "        }    #T_bea38902_36b9_11e9_9785_8c85901a8910row7_col3 {\n",
       "            text-align:  center;\n",
       "        }    #T_bea38902_36b9_11e9_9785_8c85901a8910row7_col4 {\n",
       "            text-align:  center;\n",
       "        }    #T_bea38902_36b9_11e9_9785_8c85901a8910row7_col5 {\n",
       "            text-align:  center;\n",
       "        }    #T_bea38902_36b9_11e9_9785_8c85901a8910row8_col0 {\n",
       "            text-align:  center;\n",
       "        }    #T_bea38902_36b9_11e9_9785_8c85901a8910row8_col1 {\n",
       "            text-align:  center;\n",
       "        }    #T_bea38902_36b9_11e9_9785_8c85901a8910row8_col2 {\n",
       "            text-align:  center;\n",
       "        }    #T_bea38902_36b9_11e9_9785_8c85901a8910row8_col3 {\n",
       "            text-align:  center;\n",
       "        }    #T_bea38902_36b9_11e9_9785_8c85901a8910row8_col4 {\n",
       "            text-align:  center;\n",
       "        }    #T_bea38902_36b9_11e9_9785_8c85901a8910row8_col5 {\n",
       "            text-align:  center;\n",
       "        }    #T_bea38902_36b9_11e9_9785_8c85901a8910row9_col0 {\n",
       "            text-align:  center;\n",
       "        }    #T_bea38902_36b9_11e9_9785_8c85901a8910row9_col1 {\n",
       "            text-align:  center;\n",
       "        }    #T_bea38902_36b9_11e9_9785_8c85901a8910row9_col2 {\n",
       "            text-align:  center;\n",
       "        }    #T_bea38902_36b9_11e9_9785_8c85901a8910row9_col3 {\n",
       "            text-align:  center;\n",
       "        }    #T_bea38902_36b9_11e9_9785_8c85901a8910row9_col4 {\n",
       "            text-align:  center;\n",
       "        }    #T_bea38902_36b9_11e9_9785_8c85901a8910row9_col5 {\n",
       "            text-align:  center;\n",
       "        }    #T_bea38902_36b9_11e9_9785_8c85901a8910row10_col0 {\n",
       "            text-align:  center;\n",
       "        }    #T_bea38902_36b9_11e9_9785_8c85901a8910row10_col1 {\n",
       "            text-align:  center;\n",
       "        }    #T_bea38902_36b9_11e9_9785_8c85901a8910row10_col2 {\n",
       "            text-align:  center;\n",
       "        }    #T_bea38902_36b9_11e9_9785_8c85901a8910row10_col3 {\n",
       "            text-align:  center;\n",
       "        }    #T_bea38902_36b9_11e9_9785_8c85901a8910row10_col4 {\n",
       "            text-align:  center;\n",
       "        }    #T_bea38902_36b9_11e9_9785_8c85901a8910row10_col5 {\n",
       "            text-align:  center;\n",
       "        }</style>  \n",
       "<table id=\"T_bea38902_36b9_11e9_9785_8c85901a8910\" > \n",
       "<thead>    <tr> \n",
       "        <th class=\"blank level0\" ></th> \n",
       "        <th class=\"col_heading level0 col0\" >Bar No.</th> \n",
       "        <th class=\"col_heading level0 col1\" >$A_b({\\text{ in}}^2)$</th> \n",
       "        <th class=\"col_heading level0 col2\" >No. Pos. Bars</th> \n",
       "        <th class=\"col_heading level0 col3\" >No. Neg. Bars</th> \n",
       "        <th class=\"col_heading level0 col4\" >Pos. Bar Spacing (in)</th> \n",
       "        <th class=\"col_heading level0 col5\" >Neg. Bar Spacing (in)</th> \n",
       "    </tr></thead> \n",
       "<tbody>    <tr> \n",
       "        <th id=\"T_bea38902_36b9_11e9_9785_8c85901a8910level0_row0\" class=\"row_heading level0 row0\" >0</th> \n",
       "        <td id=\"T_bea38902_36b9_11e9_9785_8c85901a8910row0_col0\" class=\"data row0 col0\" >3</td> \n",
       "        <td id=\"T_bea38902_36b9_11e9_9785_8c85901a8910row0_col1\" class=\"data row0 col1\" >0.11</td> \n",
       "        <td id=\"T_bea38902_36b9_11e9_9785_8c85901a8910row0_col2\" class=\"data row0 col2\" >14</td> \n",
       "        <td id=\"T_bea38902_36b9_11e9_9785_8c85901a8910row0_col3\" class=\"data row0 col3\" >0</td> \n",
       "        <td id=\"T_bea38902_36b9_11e9_9785_8c85901a8910row0_col4\" class=\"data row0 col4\" >0.86</td> \n",
       "        <td id=\"T_bea38902_36b9_11e9_9785_8c85901a8910row0_col5\" class=\"data row0 col5\" >0</td> \n",
       "    </tr>    <tr> \n",
       "        <th id=\"T_bea38902_36b9_11e9_9785_8c85901a8910level0_row1\" class=\"row_heading level0 row1\" >1</th> \n",
       "        <td id=\"T_bea38902_36b9_11e9_9785_8c85901a8910row1_col0\" class=\"data row1 col0\" >4</td> \n",
       "        <td id=\"T_bea38902_36b9_11e9_9785_8c85901a8910row1_col1\" class=\"data row1 col1\" >0.2</td> \n",
       "        <td id=\"T_bea38902_36b9_11e9_9785_8c85901a8910row1_col2\" class=\"data row1 col2\" >8</td> \n",
       "        <td id=\"T_bea38902_36b9_11e9_9785_8c85901a8910row1_col3\" class=\"data row1 col3\" >0</td> \n",
       "        <td id=\"T_bea38902_36b9_11e9_9785_8c85901a8910row1_col4\" class=\"data row1 col4\" >1.5</td> \n",
       "        <td id=\"T_bea38902_36b9_11e9_9785_8c85901a8910row1_col5\" class=\"data row1 col5\" >0</td> \n",
       "    </tr>    <tr> \n",
       "        <th id=\"T_bea38902_36b9_11e9_9785_8c85901a8910level0_row2\" class=\"row_heading level0 row2\" >2</th> \n",
       "        <td id=\"T_bea38902_36b9_11e9_9785_8c85901a8910row2_col0\" class=\"data row2 col0\" >5</td> \n",
       "        <td id=\"T_bea38902_36b9_11e9_9785_8c85901a8910row2_col1\" class=\"data row2 col1\" >0.31</td> \n",
       "        <td id=\"T_bea38902_36b9_11e9_9785_8c85901a8910row2_col2\" class=\"data row2 col2\" >5</td> \n",
       "        <td id=\"T_bea38902_36b9_11e9_9785_8c85901a8910row2_col3\" class=\"data row2 col3\" >0</td> \n",
       "        <td id=\"T_bea38902_36b9_11e9_9785_8c85901a8910row2_col4\" class=\"data row2 col4\" >2.4</td> \n",
       "        <td id=\"T_bea38902_36b9_11e9_9785_8c85901a8910row2_col5\" class=\"data row2 col5\" >0</td> \n",
       "    </tr>    <tr> \n",
       "        <th id=\"T_bea38902_36b9_11e9_9785_8c85901a8910level0_row3\" class=\"row_heading level0 row3\" >3</th> \n",
       "        <td id=\"T_bea38902_36b9_11e9_9785_8c85901a8910row3_col0\" class=\"data row3 col0\" >6</td> \n",
       "        <td id=\"T_bea38902_36b9_11e9_9785_8c85901a8910row3_col1\" class=\"data row3 col1\" >0.44</td> \n",
       "        <td id=\"T_bea38902_36b9_11e9_9785_8c85901a8910row3_col2\" class=\"data row3 col2\" >4</td> \n",
       "        <td id=\"T_bea38902_36b9_11e9_9785_8c85901a8910row3_col3\" class=\"data row3 col3\" >0</td> \n",
       "        <td id=\"T_bea38902_36b9_11e9_9785_8c85901a8910row3_col4\" class=\"data row3 col4\" >3</td> \n",
       "        <td id=\"T_bea38902_36b9_11e9_9785_8c85901a8910row3_col5\" class=\"data row3 col5\" >0</td> \n",
       "    </tr>    <tr> \n",
       "        <th id=\"T_bea38902_36b9_11e9_9785_8c85901a8910level0_row4\" class=\"row_heading level0 row4\" >4</th> \n",
       "        <td id=\"T_bea38902_36b9_11e9_9785_8c85901a8910row4_col0\" class=\"data row4 col0\" >7</td> \n",
       "        <td id=\"T_bea38902_36b9_11e9_9785_8c85901a8910row4_col1\" class=\"data row4 col1\" >0.6</td> \n",
       "        <td id=\"T_bea38902_36b9_11e9_9785_8c85901a8910row4_col2\" class=\"data row4 col2\" >3</td> \n",
       "        <td id=\"T_bea38902_36b9_11e9_9785_8c85901a8910row4_col3\" class=\"data row4 col3\" >0</td> \n",
       "        <td id=\"T_bea38902_36b9_11e9_9785_8c85901a8910row4_col4\" class=\"data row4 col4\" >4</td> \n",
       "        <td id=\"T_bea38902_36b9_11e9_9785_8c85901a8910row4_col5\" class=\"data row4 col5\" >0</td> \n",
       "    </tr>    <tr> \n",
       "        <th id=\"T_bea38902_36b9_11e9_9785_8c85901a8910level0_row5\" class=\"row_heading level0 row5\" >5</th> \n",
       "        <td id=\"T_bea38902_36b9_11e9_9785_8c85901a8910row5_col0\" class=\"data row5 col0\" >8</td> \n",
       "        <td id=\"T_bea38902_36b9_11e9_9785_8c85901a8910row5_col1\" class=\"data row5 col1\" >0.79</td> \n",
       "        <td id=\"T_bea38902_36b9_11e9_9785_8c85901a8910row5_col2\" class=\"data row5 col2\" >2</td> \n",
       "        <td id=\"T_bea38902_36b9_11e9_9785_8c85901a8910row5_col3\" class=\"data row5 col3\" >0</td> \n",
       "        <td id=\"T_bea38902_36b9_11e9_9785_8c85901a8910row5_col4\" class=\"data row5 col4\" >6</td> \n",
       "        <td id=\"T_bea38902_36b9_11e9_9785_8c85901a8910row5_col5\" class=\"data row5 col5\" >0</td> \n",
       "    </tr>    <tr> \n",
       "        <th id=\"T_bea38902_36b9_11e9_9785_8c85901a8910level0_row6\" class=\"row_heading level0 row6\" >6</th> \n",
       "        <td id=\"T_bea38902_36b9_11e9_9785_8c85901a8910row6_col0\" class=\"data row6 col0\" >9</td> \n",
       "        <td id=\"T_bea38902_36b9_11e9_9785_8c85901a8910row6_col1\" class=\"data row6 col1\" >0.99</td> \n",
       "        <td id=\"T_bea38902_36b9_11e9_9785_8c85901a8910row6_col2\" class=\"data row6 col2\" >2</td> \n",
       "        <td id=\"T_bea38902_36b9_11e9_9785_8c85901a8910row6_col3\" class=\"data row6 col3\" >0</td> \n",
       "        <td id=\"T_bea38902_36b9_11e9_9785_8c85901a8910row6_col4\" class=\"data row6 col4\" >6</td> \n",
       "        <td id=\"T_bea38902_36b9_11e9_9785_8c85901a8910row6_col5\" class=\"data row6 col5\" >0</td> \n",
       "    </tr>    <tr> \n",
       "        <th id=\"T_bea38902_36b9_11e9_9785_8c85901a8910level0_row7\" class=\"row_heading level0 row7\" >7</th> \n",
       "        <td id=\"T_bea38902_36b9_11e9_9785_8c85901a8910row7_col0\" class=\"data row7 col0\" >10</td> \n",
       "        <td id=\"T_bea38902_36b9_11e9_9785_8c85901a8910row7_col1\" class=\"data row7 col1\" >1.23</td> \n",
       "        <td id=\"T_bea38902_36b9_11e9_9785_8c85901a8910row7_col2\" class=\"data row7 col2\" >2</td> \n",
       "        <td id=\"T_bea38902_36b9_11e9_9785_8c85901a8910row7_col3\" class=\"data row7 col3\" >0</td> \n",
       "        <td id=\"T_bea38902_36b9_11e9_9785_8c85901a8910row7_col4\" class=\"data row7 col4\" >6</td> \n",
       "        <td id=\"T_bea38902_36b9_11e9_9785_8c85901a8910row7_col5\" class=\"data row7 col5\" >0</td> \n",
       "    </tr>    <tr> \n",
       "        <th id=\"T_bea38902_36b9_11e9_9785_8c85901a8910level0_row8\" class=\"row_heading level0 row8\" >8</th> \n",
       "        <td id=\"T_bea38902_36b9_11e9_9785_8c85901a8910row8_col0\" class=\"data row8 col0\" >11</td> \n",
       "        <td id=\"T_bea38902_36b9_11e9_9785_8c85901a8910row8_col1\" class=\"data row8 col1\" >1.48</td> \n",
       "        <td id=\"T_bea38902_36b9_11e9_9785_8c85901a8910row8_col2\" class=\"data row8 col2\" >1</td> \n",
       "        <td id=\"T_bea38902_36b9_11e9_9785_8c85901a8910row8_col3\" class=\"data row8 col3\" >0</td> \n",
       "        <td id=\"T_bea38902_36b9_11e9_9785_8c85901a8910row8_col4\" class=\"data row8 col4\" >12</td> \n",
       "        <td id=\"T_bea38902_36b9_11e9_9785_8c85901a8910row8_col5\" class=\"data row8 col5\" >0</td> \n",
       "    </tr>    <tr> \n",
       "        <th id=\"T_bea38902_36b9_11e9_9785_8c85901a8910level0_row9\" class=\"row_heading level0 row9\" >9</th> \n",
       "        <td id=\"T_bea38902_36b9_11e9_9785_8c85901a8910row9_col0\" class=\"data row9 col0\" >14</td> \n",
       "        <td id=\"T_bea38902_36b9_11e9_9785_8c85901a8910row9_col1\" class=\"data row9 col1\" >2.41</td> \n",
       "        <td id=\"T_bea38902_36b9_11e9_9785_8c85901a8910row9_col2\" class=\"data row9 col2\" >1</td> \n",
       "        <td id=\"T_bea38902_36b9_11e9_9785_8c85901a8910row9_col3\" class=\"data row9 col3\" >0</td> \n",
       "        <td id=\"T_bea38902_36b9_11e9_9785_8c85901a8910row9_col4\" class=\"data row9 col4\" >12</td> \n",
       "        <td id=\"T_bea38902_36b9_11e9_9785_8c85901a8910row9_col5\" class=\"data row9 col5\" >0</td> \n",
       "    </tr>    <tr> \n",
       "        <th id=\"T_bea38902_36b9_11e9_9785_8c85901a8910level0_row10\" class=\"row_heading level0 row10\" >10</th> \n",
       "        <td id=\"T_bea38902_36b9_11e9_9785_8c85901a8910row10_col0\" class=\"data row10 col0\" >18</td> \n",
       "        <td id=\"T_bea38902_36b9_11e9_9785_8c85901a8910row10_col1\" class=\"data row10 col1\" >3.98</td> \n",
       "        <td id=\"T_bea38902_36b9_11e9_9785_8c85901a8910row10_col2\" class=\"data row10 col2\" >1</td> \n",
       "        <td id=\"T_bea38902_36b9_11e9_9785_8c85901a8910row10_col3\" class=\"data row10 col3\" >0</td> \n",
       "        <td id=\"T_bea38902_36b9_11e9_9785_8c85901a8910row10_col4\" class=\"data row10 col4\" >12</td> \n",
       "        <td id=\"T_bea38902_36b9_11e9_9785_8c85901a8910row10_col5\" class=\"data row10 col5\" >0</td> \n",
       "    </tr></tbody> \n",
       "</table> "
      ],
      "text/plain": [
       "<pandas.io.formats.style.Styler at 0x11c93e470>"
      ]
     },
     "execution_count": 18,
     "metadata": {},
     "output_type": "execute_result"
    }
   ],
   "source": [
    "bar_sizes = np.array([3, 4, 5, 6, 7, 8, 9, 10, 11, 14, 18])\n",
    "bar_areas = np.around((bar_sizes / 8.) ** 2.0 * np.pi  / 4, 2)\n",
    "num_pos_bars = np.ceil(A_s / bar_areas)\n",
    "num_neg_bars = np.ceil(A_s_p / bar_areas)\n",
    "space_pos_reinf = np.around(b / num_pos_bars, 2)\n",
    "if A_s_p == 0:\n",
    "    space_neg_reinf = 0.0 * num_neg_bars\n",
    "else:\n",
    "    space_neg_reinf = np.around(b / num_neg_bars, 2)\n",
    "\n",
    "reinf_array = np.array([bar_sizes, bar_areas, num_pos_bars, num_neg_bars,\n",
    "               space_pos_reinf, space_neg_reinf])\n",
    "reinf_array = np.transpose(reinf_array)\n",
    "\n",
    "reinf_df = pd.DataFrame(reinf_array, columns=['Bar No.', '$A_b({\\\\text{ in}}^2)$', \n",
    "                                              'No. Pos. Bars',\n",
    "                                              'No. Neg. Bars',\n",
    "                                              'Pos. Bar Spacing (in)',\n",
    "                                              'Neg. Bar Spacing (in)'])\n",
    "reinf_df.style.set_properties(**{'text-align':'center'}).set_table_styles([d1,d2, d3])"
   ]
  },
  {
   "cell_type": "markdown",
   "metadata": {},
   "source": [
    "## 6.  Generate Report"
   ]
  },
  {
   "cell_type": "code",
   "execution_count": 19,
   "metadata": {
    "papermill": {
     "duration": 0.017839,
     "end_time": "2019-02-01T02:28:42.327029",
     "exception": false,
     "start_time": "2019-02-01T02:28:42.309190",
     "status": "completed"
    },
    "tags": []
   },
   "outputs": [],
   "source": [
    "from codecs import decode\n",
    "\n",
    "# Initialize document\n",
    "doc = Document()\n",
    "doc.packages.append(Package('amsmath'))\n",
    "doc.packages.append(Package('booktabs'))\n",
    "doc.packages.append(Package('caption'))\n",
    "doc.packages.append(NoEscape('\\\\captionsetup{labelformat=empty}'))\n",
    "section = Section('Design Parameters')\n",
    "\n",
    "# add to report\n",
    "subsection = Subsection('Design Load')\n",
    "subsection.append(NoEscape(str.replace(load_s, \"\\\\\\\\\", \"\\\\\") % (M_u)))\n",
    "section.append(subsection)\n",
    "subsection = Subsection('Design Parameters')\n",
    "cdf = concrete_df.to_latex(escape=False, index=False, column_format='ccc')\n",
    "sdf = steel_df.to_latex(escape=False, index=False, column_format='ccc')\n",
    "pdf = prop_df.to_latex(escape=False, index=False, column_format='ccc')\n",
    "subsection.append(NoEscape('\\\\begin{center}\\n\\\\captionof{table}{Steel Properties}'))\n",
    "subsection.append(NoEscape(sdf))\n",
    "subsection.append(NoEscape('\\\\end{center}'))\n",
    "subsection.append(NoEscape('\\\\begin{center}\\n\\\\captionof{table}{Concrete Properties}'))\n",
    "subsection.append(NoEscape(cdf))\n",
    "subsection.append(NoEscape('\\\\end{center}'))\n",
    "subsection.append(NoEscape('\\\\begin{center}\\n\\\\captionof{table}{Section Properties}'))\n",
    "subsection.append(NoEscape(pdf))\n",
    "subsection.append(NoEscape('\\\\end{center}'))\n",
    "section.append(subsection)\n",
    "doc.append(section)\n",
    "\n",
    "section = Section('Calculate Balanced Reinforcement Ratio')\n",
    "subsection = Subsection('Balanced Reinforcement Ratio')\n",
    "subsection.append(NoEscape(pb_s % pb_s_i))\n",
    "section.append(subsection)\n",
    "subsection = Subsection('Ensure Tension Controlled Section')\n",
    "subsection.append(NoEscape(pb_lim_s % pb_lim_i))\n",
    "section.append(subsection)\n",
    "doc.append(section)\n",
    "\n",
    "doc.append(NewPage())\n",
    "section = Section('Determine Required Reinforcement')\n",
    "subsection = Subsection('Find Neutral Axis Location')\n",
    "subsection.append(NoEscape(x_na_s % x_na_i))\n",
    "subsection = Subsection('Find Maximum Strength of Singly Reinforced Section')\n",
    "subsection.append(NoEscape(M_u_s % M_u_i))\n",
    "section.append(subsection)\n",
    "subsection = Subsection('Calculate Required Reinforcement')\n",
    "if M_u <= M_u_lim:\n",
    "    subsection.append(NoEscape('$M_u \\leq M_{u,lim} \\\\Rightarrow$ Positive Reinforcement Required'))\n",
    "    #subsection.append('')\n",
    "    subsection.append(NoEscape(A_s_str % A_s_i))\n",
    "else:\n",
    "    subsection.append(NoEscape('$M_u \\geq M_{u,lim} \\\\Rightarrow$ Positive and Negative Reinforcement Required \\n'))\n",
    "    subsection.append(NoEscape('\\n \\\\textbf{Positive Reinforcement}, $A_s$'))   \n",
    "    subsection.append(NoEscape(A_s_str % A_s_i))\n",
    "    subsection.append(NoEscape('\\n \\\\textbf{Negative Reinforcement}, $A\\'_s$'))\n",
    "    subsection.append(NoEscape(A_s_p_str % A_s_p_i))\n",
    "reinfdf = reinf_df.to_latex(escape=False, index=False, column_format='cccccc')\n",
    "subsection.append(NoEscape('\\\\begin{center}\\n\\\\captionof{table}{Required Reinforcement by Bar Size}'))\n",
    "subsection.append(NoEscape(reinfdf))\n",
    "subsection.append(NoEscape('\\\\end{center}'))\n",
    "section.append(subsection)\n",
    "doc.append(section)\n",
    "\n",
    "doc.generate_pdf('beam_ex2', clean_tex=False)"
   ]
  },
  {
   "cell_type": "code",
   "execution_count": null,
   "metadata": {},
   "outputs": [],
   "source": []
  },
  {
   "cell_type": "code",
   "execution_count": null,
   "metadata": {},
   "outputs": [],
   "source": []
  }
 ],
 "metadata": {
  "kernelspec": {
   "display_name": "Python 3",
   "language": "python",
   "name": "python3"
  },
  "language_info": {
   "codemirror_mode": {
    "name": "ipython",
    "version": 3
   },
   "file_extension": ".py",
   "mimetype": "text/x-python",
   "name": "python",
   "nbconvert_exporter": "python",
   "pygments_lexer": "ipython3",
   "version": "3.7.0"
  },
  "latex_envs": {
   "LaTeX_envs_menu_present": true,
   "autoclose": false,
   "autocomplete": true,
   "bibliofile": "biblio.bib",
   "cite_by": "apalike",
   "current_citInitial": 1,
   "eqLabelWithNumbers": true,
   "eqNumInitial": 1,
   "hotkeys": {
    "equation": "Ctrl-E",
    "itemize": "Ctrl-I"
   },
   "labels_anchors": false,
   "latex_user_defs": false,
   "report_style_numbering": false,
   "user_envs_cfg": false
  },
  "nteract": {
   "version": "nteract-on-jupyter@2.0.2"
  },
  "papermill": {
   "duration": 3.348837,
   "end_time": "2019-02-01T02:28:42.710525",
   "environment_variables": {},
   "exception": null,
   "input_path": "./concrete_beam_design.ipynb",
   "output_path": "./nboutput/cb_out1.ipynb",
   "parameters": {
    "M_u": 500,
    "b": 12,
    "d": 15,
    "d_prime": 1,
    "f_c": 5,
    "f_y": 60,
    "h": 16
   },
   "start_time": "2019-02-01T02:28:39.361688",
   "version": "0.17.1"
  }
 },
 "nbformat": 4,
 "nbformat_minor": 2
}
